{
 "cells": [
  {
   "cell_type": "markdown",
   "id": "0fc251fd-4c4f-47e8-a588-d2dc63377133",
   "metadata": {},
   "source": [
    "### KMeans w sklearn"
   ]
  },
  {
   "cell_type": "markdown",
   "id": "86fbe8f5-3f82-48c5-9159-ea65a9771556",
   "metadata": {},
   "source": [
    "Używać będziemy klasy `KMeans` z modułu `sklearn.cluster`"
   ]
  },
  {
   "cell_type": "code",
   "execution_count": null,
   "id": "b9107274-2fc9-40f5-a0aa-0d90c15e9e61",
   "metadata": {},
   "outputs": [],
   "source": [
    "# cluster - moduł sklearn zawierający algorytmy klastrowania\n",
    "import sklearn.cluster\n",
    "\n",
    "print(dir(sklearn.cluster))"
   ]
  },
  {
   "cell_type": "markdown",
   "id": "228ca1e1-24ea-4e48-abfd-d742da4693de",
   "metadata": {},
   "source": [
    "#### Wygenerowanie losowego zbioru danych"
   ]
  },
  {
   "cell_type": "code",
   "execution_count": null,
   "id": "dca76ebc-96a4-47c1-8dc6-c589da41144a",
   "metadata": {},
   "outputs": [],
   "source": [
    "import pandas as pd\n",
    "from sklearn.datasets import make_blobs\n",
    "\n",
    "data = make_blobs(n_samples=1000, centers=2, cluster_std=1.0, center_box=(-4.0, 4.0), random_state=42)[0]\n",
    "df = pd.DataFrame(data, columns=['x1', 'x2'])\n",
    "df.head()"
   ]
  },
  {
   "cell_type": "code",
   "execution_count": null,
   "id": "02f455cf-5e8e-44ae-a12a-e99ad2720104",
   "metadata": {},
   "outputs": [],
   "source": [
    "import plotly.express as px\n",
    "\n",
    "px.scatter(df, 'x1', 'x2', width=950, height=500, title='Dane')"
   ]
  },
  {
   "cell_type": "markdown",
   "id": "5638f07f-abeb-4735-a4b4-4740bacd0063",
   "metadata": {},
   "source": [
    "#### Wyznaczenie klastrów"
   ]
  },
  {
   "cell_type": "code",
   "execution_count": null,
   "id": "46f9e53a-705a-4a71-838e-b48915316622",
   "metadata": {},
   "outputs": [],
   "source": [
    "from sklearn.cluster import KMeans\n",
    "\n",
    "kmeans = KMeans(n_clusters=2)"
   ]
  },
  {
   "cell_type": "code",
   "execution_count": null,
   "id": "d420a9aa-9fdb-4490-a430-f63ad492ef8d",
   "metadata": {},
   "outputs": [],
   "source": [
    "print(dir(kmeans))"
   ]
  },
  {
   "cell_type": "code",
   "execution_count": null,
   "id": "e5cfea4c-c607-4c55-9f63-3ddfb1e2fb13",
   "metadata": {},
   "outputs": [],
   "source": [
    "kmeans.fit(data)"
   ]
  },
  {
   "cell_type": "code",
   "execution_count": null,
   "id": "cde91f75-db98-40b6-81f2-a9627b7fe26d",
   "metadata": {},
   "outputs": [],
   "source": [
    "y_kmeans = kmeans.predict(data)\n",
    "y_kmeans[:10]  # pierwsze 10 przypisań klastrów"
   ]
  },
  {
   "cell_type": "code",
   "execution_count": null,
   "id": "cde96d5a-07cd-41f8-a322-6c67eea373b4",
   "metadata": {},
   "outputs": [],
   "source": [
    "df['y_kmeans'] = y_kmeans\n",
    "df.head()"
   ]
  },
  {
   "cell_type": "markdown",
   "id": "80fc32f8-6d6f-40d9-8643-97e5a0319e54",
   "metadata": {},
   "source": [
    "#### Wizualizacja klastrów"
   ]
  },
  {
   "cell_type": "code",
   "execution_count": null,
   "id": "bde5eec7-d4dc-496a-acb3-64e9d35ae196",
   "metadata": {},
   "outputs": [],
   "source": [
    "import plotly.graph_objects as go\n",
    "\n",
    "centroid_1, centroid_2 = kmeans.cluster_centers_\n",
    "\n",
    "fig = px.scatter(df, 'x1', 'x2', 'y_kmeans', width=950, height=500, title='Algorytm K-średnich - 2 klastry')\n",
    "fig.add_trace(go.Scatter(x=[centroid_1[0]], y=[centroid_1[1]], name='centroid 1', mode='markers', marker_line_width=2))\n",
    "fig.add_trace(go.Scatter(x=[centroid_2[0]], y=[centroid_2[1]], name='centroid 2', mode='markers', marker_line_width=2))\n",
    "\n",
    "fig"
   ]
  },
  {
   "cell_type": "code",
   "execution_count": null,
   "id": "1fba11da-ee03-445a-b224-39da7aa7bacd",
   "metadata": {},
   "outputs": [],
   "source": [
    "kmeans.predict(\n",
    "    [\n",
    "        [-1, 4], \n",
    "        [1, -2], \n",
    "        [0, 0]\n",
    "    ]\n",
    ")"
   ]
  }
 ],
 "metadata": {
  "kernelspec": {
   "display_name": "Python 3 (ipykernel)",
   "language": "python",
   "name": "python3"
  },
  "language_info": {
   "codemirror_mode": {
    "name": "ipython",
    "version": 3
   },
   "file_extension": ".py",
   "mimetype": "text/x-python",
   "name": "python",
   "nbconvert_exporter": "python",
   "pygments_lexer": "ipython3",
   "version": "3.11.1"
  }
 },
 "nbformat": 4,
 "nbformat_minor": 5
}
