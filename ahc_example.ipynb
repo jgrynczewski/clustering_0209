{
 "cells": [
  {
   "cell_type": "markdown",
   "id": "6d1af63e-0f52-4fc5-84e9-ca9dd01f939b",
   "metadata": {},
   "source": [
    "## Grupowanie hierarchiczne"
   ]
  },
  {
   "cell_type": "markdown",
   "id": "8d092171-234f-4bf3-a8ec-705d1296e18a",
   "metadata": {},
   "source": [
    "Z użyciem biblioteki scipy"
   ]
  },
  {
   "cell_type": "markdown",
   "id": "a37f2166-f3a5-493d-bf6c-85fcc1c00d3f",
   "metadata": {},
   "source": [
    "### Import bibliotek"
   ]
  },
  {
   "cell_type": "code",
   "execution_count": null,
   "id": "c5d2fa4a-6aeb-4765-978e-2c0bd53b1aa7",
   "metadata": {},
   "outputs": [],
   "source": [
    "import numpy as np\n",
    "import pandas as pd\n",
    "import matplotlib.pyplot as plt\n",
    "import seaborn as sns\n",
    "import plotly.express as px\n",
    "\n",
    "sns.set(font_scale=1.2)"
   ]
  },
  {
   "cell_type": "markdown",
   "id": "ce9a685e-1488-49a4-97ab-762964e23f1c",
   "metadata": {},
   "source": [
    "### Wygenerowanie danych"
   ]
  },
  {
   "cell_type": "code",
   "execution_count": null,
   "id": "b488f071-0fe6-4eb2-92fc-360b90ea3ee2",
   "metadata": {},
   "outputs": [],
   "source": [
    "from sklearn.datasets import make_blobs\n",
    "\n",
    "# 10 punktów, dwa skupiska\n",
    "data = make_blobs(n_samples=10, centers=2, cluster_std=1.0, center_box=(-8.0, 8.0), random_state=42)[0]\n",
    "df = pd.DataFrame(data, columns=['x1', 'x2'])\n",
    "df.head()"
   ]
  },
  {
   "cell_type": "markdown",
   "id": "02b590e7-22a6-44e2-85c6-c335888594d9",
   "metadata": {},
   "source": [
    "### Wizualizacja danych"
   ]
  },
  {
   "cell_type": "code",
   "execution_count": null,
   "id": "060e3e95-525a-474a-81ab-6a9026475cf9",
   "metadata": {},
   "outputs": [],
   "source": [
    "plt.figure(figsize=(14, 7))\n",
    "plt.scatter(data[:,0], data[:,1])\n",
    "\n",
    "for label, x, y in zip(range(10), data[:, 0], data[:, 1]):\n",
    "    plt.annotate(label, xy=(x, y), xytext=(-3, 3), textcoords='offset points', ha='right', va='bottom')\n",
    "plt.title('Grupowanie hierarchiczne')\n",
    "plt.show()"
   ]
  },
  {
   "cell_type": "markdown",
   "id": "e8fc1708-deba-4fc4-9d66-55632233d107",
   "metadata": {},
   "source": [
    "### Grupowanie"
   ]
  },
  {
   "cell_type": "code",
   "execution_count": null,
   "id": "95a53e4f-fbc7-4eee-96da-3f2fef7440a4",
   "metadata": {},
   "outputs": [],
   "source": [
    "from scipy.cluster.hierarchy import linkage\n",
    "\n",
    "# przeprowadzenie grupowania hierarchicznego\n",
    "z = linkage(data)  # domyslnie metric='euclidean', method='single'\n",
    "# The input y may be either a 1-D condensed distance matrix or a 2-D array of observation vectors.\n",
    "\n",
    "print(type(z))\n",
    "print(z)  \n",
    "# macierz z o wymiarach (n-1) x 4\n",
    "# W i-tej iteracji: \n",
    "#   - klastry z[i,0], z[i,1] są łączone żeby utworzyć n+i klaster\n",
    "#   - odległość pomiędzy klasterem z[i,0] i z[i, 1] to z[i,2]\n",
    "#   - z[i, 3] reprezentuje liczbę próbek w klastrze n+i"
   ]
  },
  {
   "cell_type": "markdown",
   "id": "d5f2345f-4f6a-4364-b4d0-9e15c75817b2",
   "metadata": {},
   "source": [
    "### Wizualizacja (dendogram)"
   ]
  },
  {
   "cell_type": "code",
   "execution_count": null,
   "id": "83f52ae7-ff7e-4ee2-be26-9418a9a9fce3",
   "metadata": {},
   "outputs": [],
   "source": [
    "from scipy.cluster.hierarchy import dendrogram\n",
    "\n",
    "plt.figure(figsize=(14, 7))\n",
    "dendrogram(linked, orientation='top', distance_sort='descending', show_leaf_counts=True)\n",
    "plt.title('Grupowanie hierarchiczne - dendrogram')\n",
    "plt.show()"
   ]
  },
  {
   "cell_type": "markdown",
   "id": "ec5cf146-b521-43b3-a726-767f29fd27ec",
   "metadata": {},
   "source": [
    "### Popatrzmy na inne estymatory odległości międzyklastrowej"
   ]
  },
  {
   "cell_type": "markdown",
   "id": "a82940f6-52e9-4f9f-833f-d80e387e84da",
   "metadata": {},
   "source": [
    "#### Complete"
   ]
  },
  {
   "cell_type": "code",
   "execution_count": null,
   "id": "b0f66e8f-140d-4b9e-819c-6d71ff405407",
   "metadata": {},
   "outputs": [],
   "source": [
    "z = linkage(data, method='complete')\n",
    "\n",
    "plt.figure(figsize=(14, 7))\n",
    "dendrogram(linked, orientation='top', distance_sort='descending', show_leaf_counts=True)\n",
    "plt.title('Grupowanie hierarchiczne - dendrogram (complete)')\n",
    "plt.show()"
   ]
  },
  {
   "cell_type": "markdown",
   "id": "6d550683-755f-45eb-a104-b456032f44e4",
   "metadata": {},
   "source": [
    "#### Average"
   ]
  },
  {
   "cell_type": "code",
   "execution_count": null,
   "id": "dc60cf35-3e91-447f-9bec-0a9688d2de31",
   "metadata": {},
   "outputs": [],
   "source": [
    "z = linkage(data, method='average')\n",
    "\n",
    "plt.figure(figsize=(14, 7))\n",
    "dendrogram(linked, orientation='top', distance_sort='descending', show_leaf_counts=True)\n",
    "plt.title('Grupowanie hierarchiczne - dendrogram (Average)')\n",
    "plt.show()"
   ]
  },
  {
   "cell_type": "markdown",
   "id": "bd6e187d-2a97-4316-b30e-8bc149984005",
   "metadata": {},
   "source": [
    "#### Centroid"
   ]
  },
  {
   "cell_type": "code",
   "execution_count": null,
   "id": "b52d9e69-fc4a-465a-9b20-1c822439a0fd",
   "metadata": {},
   "outputs": [],
   "source": [
    "z = linkage(data, method='centroid')\n",
    "\n",
    "plt.figure(figsize=(14, 7))\n",
    "dendrogram(linked, orientation='top', distance_sort='descending', show_leaf_counts=True)\n",
    "plt.title('Grupowanie hierarchiczne - dendrogram (Centroid)')\n",
    "plt.show()"
   ]
  },
  {
   "cell_type": "markdown",
   "id": "560b353c-cfff-47a2-af53-02d0ccdf75be",
   "metadata": {},
   "source": [
    "#### Median"
   ]
  },
  {
   "cell_type": "code",
   "execution_count": null,
   "id": "d21cc1f4-bf58-4e26-b0c7-9ac8852fdf4d",
   "metadata": {},
   "outputs": [],
   "source": [
    "z = linkage(data, method='median')\n",
    "\n",
    "plt.figure(figsize=(14, 7))\n",
    "dendrogram(linked, orientation='top', distance_sort='descending', show_leaf_counts=True)\n",
    "plt.title('Grupowanie hierarchiczne - dendrogram (Median)')\n",
    "plt.show()"
   ]
  },
  {
   "cell_type": "markdown",
   "id": "616a830a-2244-4d00-ae2b-377f72571f7c",
   "metadata": {},
   "source": [
    "#### Ward"
   ]
  },
  {
   "cell_type": "code",
   "execution_count": null,
   "id": "a866c8f7-6ac3-493c-b751-1c194f892a27",
   "metadata": {},
   "outputs": [],
   "source": [
    "z = linkage(data, method='complete')\n",
    "\n",
    "plt.figure(figsize=(14, 7))\n",
    "dendrogram(linked, orientation='top', distance_sort='descending', show_leaf_counts=True)\n",
    "plt.title('Grupowanie hierarchiczne - dendrogram (Ward)')\n",
    "plt.show()"
   ]
  },
  {
   "cell_type": "markdown",
   "id": "b2b15014-ca65-40a2-baa3-876f2c535639",
   "metadata": {},
   "source": [
    "Drzewo można obracać"
   ]
  },
  {
   "cell_type": "code",
   "execution_count": null,
   "id": "09aad7a5-d5d0-40ac-b157-ea26b29d77bc",
   "metadata": {},
   "outputs": [],
   "source": [
    "# zmiana orientacji dendogramu\n",
    "plt.figure(figsize=(14, 7))\n",
    "dendrogram(z, orientation='right', labels=range(1, 11), distance_sort='descending', show_leaf_counts=True)\n",
    "plt.title('Grupowanie hierarchiczne - dendrogram')\n",
    "plt.show()"
   ]
  }
 ],
 "metadata": {
  "kernelspec": {
   "display_name": "Python 3 (ipykernel)",
   "language": "python",
   "name": "python3"
  },
  "language_info": {
   "codemirror_mode": {
    "name": "ipython",
    "version": 3
   },
   "file_extension": ".py",
   "mimetype": "text/x-python",
   "name": "python",
   "nbconvert_exporter": "python",
   "pygments_lexer": "ipython3",
   "version": "3.11.1"
  }
 },
 "nbformat": 4,
 "nbformat_minor": 5
}
