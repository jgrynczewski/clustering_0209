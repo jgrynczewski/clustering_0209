{
 "cells": [
  {
   "cell_type": "markdown",
   "id": "4509788e-85c4-42e4-b9e2-1c279fc165a3",
   "metadata": {},
   "source": [
    "### Metoda łokcia \n",
    "(i metryka WSS)"
   ]
  },
  {
   "cell_type": "markdown",
   "id": "1c08a98b-c32e-459c-a435-5d0ed81da2b7",
   "metadata": {},
   "source": [
    "#### Wygenerowanie danych"
   ]
  },
  {
   "cell_type": "code",
   "execution_count": null,
   "id": "c3fb137d-c6b8-4887-8efe-95b04f557afb",
   "metadata": {},
   "outputs": [],
   "source": [
    "import pandas as pd\n",
    "from sklearn.datasets import make_blobs\n",
    "\n",
    "data = make_blobs(n_samples=1000, centers=3, cluster_std=1.0, center_box=(-4.0, 4.0), random_state=42)[0]\n",
    "df = pd.DataFrame(data, columns=['x1', 'x2'])\n",
    "df.head()"
   ]
  },
  {
   "cell_type": "code",
   "execution_count": null,
   "id": "62ba6d3a-e143-4a2d-a93f-3ee6d0a6a35d",
   "metadata": {},
   "outputs": [],
   "source": [
    "import plotly.express as px\n",
    "\n",
    "px.scatter(df, 'x1', 'x2', width=950, height=500, title='Algorytm K-średnich', template='plotly_dark')  # zróbmy na czarnym tle"
   ]
  },
  {
   "cell_type": "markdown",
   "id": "82dd62e4-1ef9-46fb-8196-90f6621ae2d5",
   "metadata": {},
   "source": [
    "Na początek pięć klastrów."
   ]
  },
  {
   "cell_type": "code",
   "execution_count": null,
   "id": "fbb533cb-378c-45b8-975f-ae08146dedaa",
   "metadata": {},
   "outputs": [],
   "source": [
    "from sklearn.cluster import KMeans\n",
    "\n",
    "kmeans = KMeans(n_clusters=5)\n",
    "kmeans.fit(data)"
   ]
  },
  {
   "cell_type": "code",
   "execution_count": null,
   "id": "0233c30b-fd28-4e92-9050-b95992f76edb",
   "metadata": {},
   "outputs": [],
   "source": [
    "# wartość wss przechowywana w atrybucie inertia_\n",
    "\n",
    "kmeans.inertia_"
   ]
  },
  {
   "cell_type": "code",
   "execution_count": null,
   "id": "c301930d-93ba-4d7a-b7ec-667c302b50b8",
   "metadata": {},
   "outputs": [],
   "source": [
    "# centroidy poszczególnych klastrów przechowywane są w atrybucie cluster_centers_\n",
    "\n",
    "kmeans.cluster_centers_"
   ]
  },
  {
   "cell_type": "code",
   "execution_count": null,
   "id": "5e77519d-fe37-49d1-a9bf-55c0c8df91c4",
   "metadata": {},
   "outputs": [],
   "source": [
    "# przypisania\n",
    "y_kmeans = kmeans.predict(data)\n",
    "df['y_kmeans'] = y_kmeans"
   ]
  },
  {
   "cell_type": "code",
   "execution_count": null,
   "id": "01aa2554-f22d-4406-a001-785d9b1e21a2",
   "metadata": {},
   "outputs": [],
   "source": [
    "# pięć pierwszych przypisać\n",
    "df.head()"
   ]
  },
  {
   "cell_type": "code",
   "execution_count": null,
   "id": "627a23f6-fada-4009-b603-5c9a12bf45f2",
   "metadata": {},
   "outputs": [],
   "source": [
    "# wizualizacja\n",
    "px.scatter(\n",
    "    df, \n",
    "    'x1', \n",
    "    'x2', \n",
    "    'y_kmeans', \n",
    "    width=950, \n",
    "    height=500, \n",
    "    title='Algorytm K-średnich - 5 klastrów', \n",
    "    template='plotly_dark'\n",
    ")"
   ]
  },
  {
   "cell_type": "markdown",
   "id": "2417b150-a38d-444d-abc4-e1ee90837d35",
   "metadata": {},
   "source": [
    "Teraz pozbierajmy wartośći miary wss dla liczby klastrów od 1 do 10"
   ]
  },
  {
   "cell_type": "code",
   "execution_count": null,
   "id": "4ea88625-3d9a-45b8-bd94-9b9cf695a507",
   "metadata": {},
   "outputs": [],
   "source": [
    "wss = []\n",
    "\n",
    "for nr in range(1, 10):\n",
    "    kmeans = KMeans(n_clusters=nr, n_init=10)\n",
    "    kmeans.fit(data)\n",
    "    wss.append(kmeans.inertia_)\n",
    "    \n",
    "print(wss)"
   ]
  },
  {
   "cell_type": "code",
   "execution_count": null,
   "id": "9a678a27-1a6c-456b-a95c-c05fdaf1878c",
   "metadata": {},
   "outputs": [],
   "source": [
    "# Stwórzmy df na podstawie wyliczonych wartości\n",
    "\n",
    "wss_df = pd.DataFrame(wss, columns=['wss'])\n",
    "wss_df = wss_df.reset_index()  # resetuje index, tworzy nową kolumnę z indeksem do której możemy się odwoływać przez 'index'\n",
    "wss_df = wss_df.rename(columns={'index': 'clusters'})\n",
    "wss_df['clusters'] += 1\n",
    "wss_df"
   ]
  },
  {
   "cell_type": "markdown",
   "id": "d4dad86e-bbbd-41cf-929d-7591f2ef7ebb",
   "metadata": {},
   "source": [
    "I wykres na podstawie tych danych."
   ]
  },
  {
   "cell_type": "code",
   "execution_count": null,
   "id": "a2127219-54d6-4aa0-adc1-f1254525de12",
   "metadata": {},
   "outputs": [],
   "source": [
    "px.line(\n",
    "    wss_df, \n",
    "    x='clusters', \n",
    "    y='wss', \n",
    "    width=950, \n",
    "    height=500, \n",
    "    title='Within-Cluster-Sum of Squared Errors (WCSS)',\n",
    "    template='plotly_dark'\n",
    ")"
   ]
  },
  {
   "cell_type": "markdown",
   "id": "6dfcaaaa-c52c-4258-9ccd-d3d270fb37ad",
   "metadata": {},
   "source": [
    "W miejscu wystąpienia ostatniego wyraźnego załamania (tzw. łokcia) znajduje się liczba klastrów, która może dobrze podzielić dane. Nie jest to metoda obiektywna, trzeba dokonać wyboru, ale dobrze oddaje nam charakter zagadnienia.\n",
    "\n",
    "W tym przypadku optymalną liczbą klastrów jest liczba 3.\n",
    "\n",
    "Ilościowo łokieć możemy obliczyć na podstawie różnicy pomiędzy lewostronną i prawostronną pochodną. Im większa różnica tym wyraśniejszy łokieć."
   ]
  },
  {
   "cell_type": "markdown",
   "id": "2a2d3b92-fe03-48e3-8f2c-a4b4b81e5506",
   "metadata": {},
   "source": [
    "#### Zwizualizujmy jeszcze rozwiązanie dla 3 klastrów"
   ]
  },
  {
   "cell_type": "code",
   "execution_count": null,
   "id": "4ac8098f-d41d-42d1-843d-38bcb887731a",
   "metadata": {},
   "outputs": [],
   "source": [
    "# bierzemy 3 klastry, bo po 3 dalsze zwiększanie liczby klastrów nie przynosi widocznych rezultatów, dane nie skupiają się \n",
    "# wyraźnie lepiej wokół klastrów.\n",
    "kmeans = KMeans(n_clusters=3, n_init=10)\n",
    "kmeans.fit(data)\n",
    "\n",
    "y_kmeans = kmeans.predict(data)\n",
    "df['y_kmeans'] = y_kmeans\n",
    "\n",
    "px.scatter(\n",
    "    df, \n",
    "    'x1', \n",
    "    'x2', \n",
    "    'y_kmeans', \n",
    "    width=950, \n",
    "    height=500, \n",
    "    title='Algorytm K-średnich - 3 klastry', \n",
    "    template='plotly_dark'\n",
    ")"
   ]
  },
  {
   "cell_type": "code",
   "execution_count": null,
   "id": "323bb18b-6276-43fc-a2c5-4f7a80ad61f6",
   "metadata": {},
   "outputs": [],
   "source": [
    "# Popatrzmy na środki klastrów\n",
    "centers = pd.DataFrame(data=kmeans.cluster_centers_, columns=['c1', 'c2'])\n",
    "centers"
   ]
  },
  {
   "cell_type": "code",
   "execution_count": null,
   "id": "56d98dfa-66bd-44c6-a335-046bdc3c2edf",
   "metadata": {},
   "outputs": [],
   "source": [
    "# nanieśmy centroidy na wykres\n",
    "import plotly.graph_objects as go\n",
    "\n",
    "fig = px.scatter(df, 'x1', 'x2', 'y_kmeans', width=950, height=500, \n",
    "                 title='Algorytm K-średnich - 3 klastry', template='plotly_dark')\n",
    "fig.add_trace(go.Scatter(x=centers['c1'], y=centers['c2'], mode='markers', \n",
    "                         marker={'size': 12, 'color': 'LightSkyBlue', 'line': {'width': 2, 'color': 'tomato'}}, \n",
    "                         showlegend=False))\n",
    "fig.show()"
   ]
  },
  {
   "cell_type": "markdown",
   "id": "2e9c9e13-f5c8-4873-a2a6-a38259ab15b7",
   "metadata": {},
   "source": [
    "I popatrzmy na granice decyzyjne"
   ]
  },
  {
   "cell_type": "code",
   "execution_count": null,
   "id": "9cfea77f-f13f-4907-a198-067d8e368359",
   "metadata": {},
   "outputs": [],
   "source": [
    "# Do wyznaczenia granic decyzyjnych bardzo pomocna jest funkcja plot_decision_regions \n",
    "from mlxtend.plotting import plot_decision_regions\n",
    "import matplotlib.pyplot as plt\n",
    "\n",
    "plt.figure(figsize=(15, 8))\n",
    "plt.title('Granice decyzyjne')\n",
    "plot_decision_regions(data, y_kmeans, clf=kmeans, legend=1)  # podajemy dane, predykcja, model\n",
    "# plt.scatter(kmeans.cluster_centers_[:, 0], kmeans.cluster_centers_[:, 1], s=100, c='yellow')  # centroidy\n",
    "\n",
    "plt.show()"
   ]
  }
 ],
 "metadata": {
  "kernelspec": {
   "display_name": "Python 3 (ipykernel)",
   "language": "python",
   "name": "python3"
  },
  "language_info": {
   "codemirror_mode": {
    "name": "ipython",
    "version": 3
   },
   "file_extension": ".py",
   "mimetype": "text/x-python",
   "name": "python",
   "nbconvert_exporter": "python",
   "pygments_lexer": "ipython3",
   "version": "3.11.1"
  }
 },
 "nbformat": 4,
 "nbformat_minor": 5
}
