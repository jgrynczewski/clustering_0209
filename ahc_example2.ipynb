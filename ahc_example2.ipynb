{
 "cells": [
  {
   "cell_type": "markdown",
   "id": "6d1af63e-0f52-4fc5-84e9-ca9dd01f939b",
   "metadata": {},
   "source": [
    "## Grupowanie hierarchiczne"
   ]
  },
  {
   "cell_type": "markdown",
   "id": "8d092171-234f-4bf3-a8ec-705d1296e18a",
   "metadata": {},
   "source": [
    "Z użyciem biblioteki sklearn"
   ]
  },
  {
   "cell_type": "markdown",
   "id": "a37f2166-f3a5-493d-bf6c-85fcc1c00d3f",
   "metadata": {},
   "source": [
    "### Import bibliotek"
   ]
  },
  {
   "cell_type": "code",
   "execution_count": null,
   "id": "c5d2fa4a-6aeb-4765-978e-2c0bd53b1aa7",
   "metadata": {},
   "outputs": [],
   "source": [
    "import numpy as np\n",
    "import pandas as pd\n",
    "import matplotlib.pyplot as plt\n",
    "import seaborn as sns\n",
    "import plotly.express as px\n",
    "\n",
    "sns.set(font_scale=1.2)"
   ]
  },
  {
   "cell_type": "markdown",
   "id": "ce9a685e-1488-49a4-97ab-762964e23f1c",
   "metadata": {},
   "source": [
    "### Wygenerowanie danych"
   ]
  },
  {
   "cell_type": "code",
   "execution_count": null,
   "id": "b488f071-0fe6-4eb2-92fc-360b90ea3ee2",
   "metadata": {},
   "outputs": [],
   "source": [
    "from sklearn.datasets import make_blobs\n",
    "\n",
    "# 10 punktów, dwa skupiska\n",
    "data = make_blobs(n_samples=10, centers=2, cluster_std=1.0, center_box=(-8.0, 8.0), random_state=42)[0]\n",
    "df = pd.DataFrame(data, columns=['x1', 'x2'])\n",
    "df.head()"
   ]
  },
  {
   "cell_type": "markdown",
   "id": "02b590e7-22a6-44e2-85c6-c335888594d9",
   "metadata": {},
   "source": [
    "### Wizualizacja danych"
   ]
  },
  {
   "cell_type": "code",
   "execution_count": null,
   "id": "060e3e95-525a-474a-81ab-6a9026475cf9",
   "metadata": {},
   "outputs": [],
   "source": [
    "plt.figure(figsize=(14, 7))\n",
    "plt.scatter(data[:,0], data[:,1])\n",
    "\n",
    "for label, x, y in zip(range(10), data[:, 0], data[:, 1]):\n",
    "    plt.annotate(label, xy=(x, y), xytext=(-3, 3), textcoords='offset points', ha='right', va='bottom')\n",
    "plt.title('Grupowanie hierarchiczne')\n",
    "plt.show()"
   ]
  },
  {
   "cell_type": "markdown",
   "id": "e8fc1708-deba-4fc4-9d66-55632233d107",
   "metadata": {},
   "source": [
    "### Grupowanie"
   ]
  },
  {
   "cell_type": "code",
   "execution_count": null,
   "id": "95a53e4f-fbc7-4eee-96da-3f2fef7440a4",
   "metadata": {},
   "outputs": [],
   "source": [
    "from sklearn.cluster import AgglomerativeClustering  # ta klasa algorytm ma już zaimplementowany\n",
    "\n",
    "cluster = AgglomerativeClustering(n_clusters=2)  # 2 klastry, inne parametry - metric i linkage\n",
    "y_hca = cluster.fit_predict(data)  # dopasowujemy dane metodą fit predict\n",
    "# w wyniku mamy numer klastra\n",
    "print(y_hca)"
   ]
  },
  {
   "cell_type": "markdown",
   "id": "8c5af331-9807-4bfd-845a-faf120204765",
   "metadata": {},
   "source": [
    "### Wizualizacja"
   ]
  },
  {
   "cell_type": "code",
   "execution_count": null,
   "id": "e2026c24-b63f-4a6b-b6f9-6c760ec028a8",
   "metadata": {},
   "outputs": [],
   "source": [
    "df = pd.DataFrame(data, columns=['x1', 'x2'])\n",
    "df['cluster'] = cluster.labels_\n",
    "\n",
    "fig = px.scatter(df, 'x1', 'x2', 'cluster', width=950, height=500,\n",
    "                 title='Grupowanie hierarchiczne', color_continuous_midpoint=0.6)\n",
    "fig.update_traces(marker_size=12)\n",
    "fig.show()"
   ]
  },
  {
   "cell_type": "markdown",
   "id": "cfa8af99-9c97-4ab2-a675-da67bbe0c7dc",
   "metadata": {},
   "source": [
    "### Popatrzmy na różne metryki"
   ]
  },
  {
   "cell_type": "code",
   "execution_count": null,
   "id": "0f79ba66-db5a-4fcf-b5e3-1796ee7d5aa6",
   "metadata": {},
   "outputs": [],
   "source": [
    "# generujemy dane (1000 próbek)\n",
    "data = make_blobs(n_samples=1000, centers=4, cluster_std=1.5, center_box=(-8.0, 8.0), random_state=42)[0]\n",
    "df = pd.DataFrame(data, columns=['x1', 'x2'])\n",
    "\n",
    "px.scatter(df, 'x1', 'x2', width=950, height=500, title='Grupowanie hierarchiczne', template='plotly_dark')"
   ]
  },
  {
   "cell_type": "markdown",
   "id": "a2c238aa-92c8-4ad1-9a40-0dc0fda98ffb",
   "metadata": {},
   "source": [
    "#### Euklidesowa"
   ]
  },
  {
   "cell_type": "code",
   "execution_count": null,
   "id": "c4908d5b-d796-4360-96d8-752a87583406",
   "metadata": {},
   "outputs": [],
   "source": [
    "cluster_euclidean = AgglomerativeClustering(n_clusters=4) # model grupowania hierarchiczne w oparciu o metrykę euklidesową\n",
    "cluster_euclidean.fit_predict(data)  \n",
    "\n",
    "# wizualizacja\n",
    "df_euclidean = pd.DataFrame(data, columns=['x1', 'x2'])\n",
    "df_euclidean['cluster'] = cluster_euclidean.labels_\n",
    "fig = px.scatter(df_euclidean, 'x1', 'x2', 'cluster', width=950, height=500, template='plotly_dark',\n",
    "                 title='Grupowanie hierarchiczne - metryka euklidesowa', color_continuous_midpoint=0.6)\n",
    "fig.show()"
   ]
  },
  {
   "cell_type": "markdown",
   "id": "f5bfd356-50d8-4230-8f29-b26733313ea5",
   "metadata": {},
   "source": [
    "#### Manhattan"
   ]
  },
  {
   "cell_type": "code",
   "execution_count": null,
   "id": "aafe2bf7-0349-45ca-9191-27d949fef7dc",
   "metadata": {},
   "outputs": [],
   "source": [
    "cluster_manhattan = AgglomerativeClustering(n_clusters=4, metric='manhattan', linkage='complete') \n",
    "# linkage musi mieć wartość inną niż domyślna która była przypisana w przypadku metryki euklidesowej\n",
    "\n",
    "cluster_manhattan.fit_predict(data)\n",
    "\n",
    "cluster_manhattan = AgglomerativeClustering(n_clusters=4, metric='manhattan', linkage='complete')  # linkage - parametr musi mieć wartość inną niż domyślna \n",
    "# która była przypisana w przypadku metryki euklidesowej\n",
    "cluster_manhattan.fit_predict(data)\n",
    "\n",
    "# wizualizacja\n",
    "df_manhattan = pd.DataFrame(data, columns=['x1', 'x2'])\n",
    "df_manhattan['cluster'] = cluster_manhattan.labels_\n",
    "fig = px.scatter(df_manhattan, 'x1', 'x2', 'cluster', width=950, height=500, template='plotly_dark',\n",
    "                 title='Grupowanie hierarchiczne - metryka Manhattan', color_continuous_midpoint=0.6)\n",
    "fig.show()"
   ]
  },
  {
   "cell_type": "markdown",
   "id": "5121d3b5-b884-4d3f-b3d2-e9ccde75839a",
   "metadata": {},
   "source": [
    "#### Consinus"
   ]
  },
  {
   "cell_type": "code",
   "execution_count": null,
   "id": "0c6c1986-4833-4860-a5f1-f87e4abdc7c7",
   "metadata": {},
   "outputs": [],
   "source": [
    "cluster_cosine = AgglomerativeClustering(n_clusters=4, metric='cosine', linkage='complete')\n",
    "cluster_cosine.fit_predict(data)\n",
    "\n",
    "df_cosine = pd.DataFrame(data, columns=['x1', 'x2'])\n",
    "df_cosine['cluster'] = cluster_cosine.labels_\n",
    "fig = px.scatter(df_cosine, 'x1', 'x2', 'cluster', width=950, height=500, template='plotly_dark',\n",
    "                 title='Grupowanie hierarchiczne - metryka kosinusowa', color_continuous_midpoint=0.6)\n",
    "fig.show()"
   ]
  },
  {
   "cell_type": "markdown",
   "id": "4f233295-f33a-4a54-b44d-955045f21bb7",
   "metadata": {},
   "source": [
    "#### Zestawienie"
   ]
  },
  {
   "cell_type": "code",
   "execution_count": null,
   "id": "f9a08fa9-5447-4a70-b27d-cc34f1d58407",
   "metadata": {},
   "outputs": [],
   "source": [
    "from plotly.subplots import make_subplots\n",
    "\n",
    "fig = make_subplots(rows=1, cols=3, column_titles=['euclidean', 'Manhattan', 'cosine'])\n",
    "\n",
    "fig1 = px.scatter(df_euclidean, 'x1', 'x2', 'cluster')['data'][0]\n",
    "fig2 = px.scatter(df_manhattan, 'x1', 'x2', 'cluster')['data'][0]   \n",
    "fig3 = px.scatter(df_cosine, 'x1', 'x2', 'cluster')['data'][0]                         \n",
    "\n",
    "fig.add_trace(fig1, row=1, col=1)\n",
    "fig.add_trace(fig2, row=1, col=2)\n",
    "fig.add_trace(fig3, row=1, col=3)\n",
    "fig.update_layout(template='plotly_dark')\n",
    "fig.show()"
   ]
  }
 ],
 "metadata": {
  "kernelspec": {
   "display_name": "Python 3 (ipykernel)",
   "language": "python",
   "name": "python3"
  },
  "language_info": {
   "codemirror_mode": {
    "name": "ipython",
    "version": 3
   },
   "file_extension": ".py",
   "mimetype": "text/x-python",
   "name": "python",
   "nbconvert_exporter": "python",
   "pygments_lexer": "ipython3",
   "version": "3.11.1"
  }
 },
 "nbformat": 4,
 "nbformat_minor": 5
}
