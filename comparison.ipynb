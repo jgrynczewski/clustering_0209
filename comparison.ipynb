{
 "cells": [
  {
   "cell_type": "markdown",
   "id": "26e8bd43-3aa7-4a0c-8ae2-f64350de34e7",
   "metadata": {},
   "source": [
    "### Porównanie algorytmów klasteryzacji"
   ]
  },
  {
   "cell_type": "markdown",
   "id": "8c3bcd00-1a7e-43cc-8aae-28bffc95ce11",
   "metadata": {},
   "source": [
    "#### Import bibliotek"
   ]
  },
  {
   "cell_type": "code",
   "execution_count": null,
   "id": "12e9e42c-57f6-4f1a-b202-7ee14b952185",
   "metadata": {},
   "outputs": [],
   "source": [
    "import numpy as np\n",
    "import pandas as pd\n",
    "import plotly.express as px"
   ]
  },
  {
   "cell_type": "markdown",
   "id": "da81fc0f-93c0-4691-994d-eadf37976201",
   "metadata": {},
   "source": [
    "#### Wygenerowanie danych i wizualizacja"
   ]
  },
  {
   "cell_type": "code",
   "execution_count": null,
   "id": "41be4df2-1183-4967-a983-6f40176b44a3",
   "metadata": {},
   "outputs": [],
   "source": [
    "from sklearn.datasets import make_blobs\n",
    "\n",
    "blobs_data = make_blobs(n_samples=1000, cluster_std=0.7, random_state=24, center_box=(-4.0, 4.0))[0]\n",
    "blobs = pd.DataFrame(blobs_data, columns=['x1', 'x2'])\n",
    "px.scatter(blobs, 'x1', 'x2', width=950, height=500, title='blobs data', template='plotly_dark')"
   ]
  },
  {
   "cell_type": "code",
   "execution_count": null,
   "id": "09781b80-71fb-4353-babd-3bf36fa7cccc",
   "metadata": {},
   "outputs": [],
   "source": [
    "from sklearn.datasets import make_circles\n",
    "\n",
    "circle_data = make_circles(n_samples=1000, factor=0.5, noise=0.05)[0]\n",
    "circle = pd.DataFrame(circle_data, columns=['x1', 'x2'])\n",
    "px.scatter(circle, 'x1', 'x2', width=950, height=500, title='circle data', template='plotly_dark')"
   ]
  },
  {
   "cell_type": "code",
   "execution_count": null,
   "id": "cc778567-c65f-4f12-931a-152134eb5531",
   "metadata": {},
   "outputs": [],
   "source": [
    "from sklearn.datasets import make_moons\n",
    "\n",
    "moons_data = make_moons(n_samples=1000, noise=0.05)[0]\n",
    "moons = pd.DataFrame(moons_data, columns=['x1', 'x2'])\n",
    "px.scatter(moons, 'x1', 'x2', width=950, height=500, title='moons data', template='plotly_dark')"
   ]
  },
  {
   "cell_type": "code",
   "execution_count": null,
   "id": "53c6a714-82e5-44aa-b78a-e864d4cd5ac5",
   "metadata": {},
   "outputs": [],
   "source": [
    "random_data = np.random.rand(1500, 2)\n",
    "random = pd.DataFrame(random_data, columns=['x1', 'x2'])\n",
    "px.scatter(random, 'x1', 'x2', width=950, height=500, title='random data', template='plotly_dark')"
   ]
  },
  {
   "cell_type": "markdown",
   "id": "70f8a55a-6f36-41d5-a81e-c075c1382d53",
   "metadata": {},
   "source": [
    "#### Blobs data - 3 klastry"
   ]
  },
  {
   "cell_type": "code",
   "execution_count": null,
   "id": "df94f0cb-f82c-447a-a950-b2838d972293",
   "metadata": {},
   "outputs": [],
   "source": [
    "from plotly.subplots import make_subplots\n",
    "\n",
    "fig = make_subplots(rows=1, cols=3, shared_yaxes=True, horizontal_spacing=0.01)\n",
    "\n",
    "# KMEANS\n",
    "from sklearn.cluster import KMeans\n",
    "\n",
    "kmeans = KMeans(n_clusters=3, n_init=10)\n",
    "kmeans.fit(blobs_data)\n",
    "clusters = kmeans.predict(blobs_data)\n",
    "blobs['cluster'] = clusters\n",
    "trace1 = px.scatter(blobs, 'x1', 'x2', 'cluster', width=800, height=500)['data'][0]\n",
    "fig.add_trace(trace1, row=1, col=1)\n",
    "\n",
    "# AHC\n",
    "from sklearn.cluster import AgglomerativeClustering\n",
    "\n",
    "agglo = AgglomerativeClustering(n_clusters=3, metric='euclidean')\n",
    "clusters = agglo.fit_predict(blobs_data)\n",
    "blobs['cluster'] = clusters\n",
    "trace2 = px.scatter(blobs, 'x1', 'x2', 'cluster', width=800, height=500)['data'][0]\n",
    "fig.add_trace(trace2, row=1, col=2)\n",
    "\n",
    "# DBSCAN\n",
    "from sklearn.cluster import DBSCAN\n",
    "\n",
    "dbscan = DBSCAN(eps=0.5, min_samples=5)\n",
    "dbscan.fit(blobs_data)\n",
    "clusters = dbscan.labels_\n",
    "blobs['cluster'] = clusters\n",
    "trace3 = px.scatter(blobs, 'x1', 'x2', 'cluster', width=800, height=500)['data'][0]\n",
    "fig.add_trace(trace3, row=1, col=3)\n",
    "\n",
    "fig.update_layout(title='KMeans vs. Agglomerative Clustering vs. DBSCAN - blobs data', \n",
    "                  template='plotly_dark', coloraxis = {'colorscale':'viridis'})\n",
    "fig.show()"
   ]
  },
  {
   "cell_type": "markdown",
   "id": "b1610129-2983-4736-9b53-0d0f854045ca",
   "metadata": {},
   "source": [
    "#### Cirlce data - 2 klastry"
   ]
  },
  {
   "cell_type": "code",
   "execution_count": null,
   "id": "c738adff-4f4f-4b08-ab5b-abb905bc5edc",
   "metadata": {},
   "outputs": [],
   "source": [
    "fig = make_subplots(rows=1, cols=3, shared_yaxes=True, horizontal_spacing=0.01)\n",
    "\n",
    "# KMeans\n",
    "kmeans = KMeans(n_clusters=3, n_init=10)\n",
    "kmeans.fit(circle_data)\n",
    "clusters = kmeans.predict(circle_data)\n",
    "circle['cluster'] = clusters\n",
    "trace1 = px.scatter(circle, 'x1', 'x2', 'cluster', width=800, height=500)['data'][0]\n",
    "fig.add_trace(trace1, row=1, col=1)\n",
    "\n",
    "# AgglomerativeClustering\n",
    "agglo = AgglomerativeClustering(n_clusters=3, metric='euclidean')\n",
    "clusters = agglo.fit_predict(circle_data)\n",
    "circle['cluster'] = clusters\n",
    "trace2 = px.scatter(circle, 'x1', 'x2', 'cluster', width=800, height=500)['data'][0]\n",
    "fig.add_trace(trace2, row=1, col=2)\n",
    "\n",
    "# DBSCAN\n",
    "dbscan = DBSCAN(eps=0.1, min_samples=5)\n",
    "dbscan.fit(circle_data)\n",
    "clusters = dbscan.labels_\n",
    "circle['cluster'] = clusters\n",
    "trace3 = px.scatter(circle, 'x1', 'x2', 'cluster', width=800, height=500)['data'][0]\n",
    "fig.add_trace(trace3, row=1, col=3)\n",
    "\n",
    "fig.update_layout(title='KMeans vs. Agglomerative Clustering vs. DBSCAN - circle data', template='plotly_dark',\n",
    "                  coloraxis = {'colorscale':'viridis'})"
   ]
  },
  {
   "cell_type": "markdown",
   "id": "bcd698b3-b64f-4a96-8074-96501f5196d2",
   "metadata": {},
   "source": [
    "#### Moons data - 2 klastry "
   ]
  },
  {
   "cell_type": "code",
   "execution_count": null,
   "id": "c5db18f1-c822-4217-889d-57a10712eb7e",
   "metadata": {},
   "outputs": [],
   "source": [
    "fig = make_subplots(rows=1, cols=3, shared_yaxes=True, horizontal_spacing=0.01)\n",
    "\n",
    "# KMeans\n",
    "kmeans = KMeans(n_clusters=2, n_init=10)\n",
    "kmeans.fit(moons_data)\n",
    "clusters = kmeans.predict(moons_data)\n",
    "moons['cluster'] = clusters\n",
    "trace1 = px.scatter(moons, 'x1', 'x2', 'cluster', width=800, height=500)['data'][0]\n",
    "fig.add_trace(trace1, row=1, col=1)\n",
    "\n",
    "# AgglomerativeClustering\n",
    "agglo = AgglomerativeClustering(n_clusters=2, metric='euclidean')\n",
    "clusters = agglo.fit_predict(moons_data)\n",
    "moons['cluster'] = clusters\n",
    "trace2 = px.scatter(moons, 'x1', 'x2', 'cluster', width=800, height=500)['data'][0]\n",
    "fig.add_trace(trace2, row=1, col=2)\n",
    "\n",
    "# DBSCAN\n",
    "dbscan = DBSCAN(eps=0.07, min_samples=5)\n",
    "dbscan.fit(moons_data)\n",
    "clusters = dbscan.labels_\n",
    "moons['cluster'] = clusters\n",
    "trace3 = px.scatter(moons, 'x1', 'x2', 'cluster', width=800, height=500)['data'][0]\n",
    "fig.add_trace(trace3, row=1, col=3)\n",
    "\n",
    "fig.update_layout(title='KMeans vs. Agglomerative Clustering vs. DBSCAN - moons data', template='plotly_dark',\n",
    "                  coloraxis = {'colorscale':'viridis'})"
   ]
  },
  {
   "cell_type": "markdown",
   "id": "4f54e3e6-08e3-4612-bc9e-2d366b926543",
   "metadata": {},
   "source": [
    "#### Random data"
   ]
  },
  {
   "cell_type": "code",
   "execution_count": null,
   "id": "978c25e0-58be-447c-9de0-9d0aabc432d0",
   "metadata": {},
   "outputs": [],
   "source": [
    "fig = make_subplots(rows=1, cols=3, shared_yaxes=True, horizontal_spacing=0.01)\n",
    "\n",
    "# KMeans\n",
    "kmeans = KMeans(n_clusters=5, n_init=10)\n",
    "kmeans.fit(random_data)\n",
    "clusters = kmeans.predict(random_data)\n",
    "random['cluster'] = clusters\n",
    "trace1 = px.scatter(random, 'x1', 'x2', 'cluster', width=800, height=500)['data'][0]\n",
    "fig.add_trace(trace1, row=1, col=1)\n",
    "\n",
    "# AgglomerativeClustering\n",
    "agglo = AgglomerativeClustering(n_clusters=5, metric='euclidean')\n",
    "clusters = agglo.fit_predict(random_data)\n",
    "random['cluster'] = clusters\n",
    "trace2 = px.scatter(random, 'x1', 'x2', 'cluster', width=800, height=500)['data'][0]\n",
    "fig.add_trace(trace2, row=1, col=2)\n",
    "\n",
    "# DBSCAN\n",
    "dbscan = DBSCAN(eps=0.05, min_samples=5)\n",
    "dbscan.fit(random_data)\n",
    "clusters = dbscan.labels_\n",
    "random['cluster'] = clusters\n",
    "trace3 = px.scatter(random, 'x1', 'x2', 'cluster', width=800, height=500)['data'][0]\n",
    "fig.add_trace(trace3, row=1, col=3)\n",
    "\n",
    "fig.update_layout(title='KMeans vs. Agglomerative Clustering vs.DBSCAN - random data', template='plotly_dark',\n",
    "                  coloraxis = {'colorscale':'viridis'})"
   ]
  }
 ],
 "metadata": {
  "kernelspec": {
   "display_name": "Python 3 (ipykernel)",
   "language": "python",
   "name": "python3"
  },
  "language_info": {
   "codemirror_mode": {
    "name": "ipython",
    "version": 3
   },
   "file_extension": ".py",
   "mimetype": "text/x-python",
   "name": "python",
   "nbconvert_exporter": "python",
   "pygments_lexer": "ipython3",
   "version": "3.11.1"
  }
 },
 "nbformat": 4,
 "nbformat_minor": 5
}
