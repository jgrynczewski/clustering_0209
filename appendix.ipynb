{
 "cells": [
  {
   "cell_type": "markdown",
   "id": "2c83ef6c-61a4-4af0-b0bf-09fe5580e127",
   "metadata": {},
   "source": [
    "#### Generatory liczb pseudolosowych"
   ]
  },
  {
   "cell_type": "markdown",
   "id": "edefb933-49c4-410d-b83c-1af89dcc15be",
   "metadata": {},
   "source": [
    "##### Kilka szeregów autoregresyjnych"
   ]
  },
  {
   "cell_type": "markdown",
   "id": "2f64081e-f3f9-4f49-b2f3-f24500702a4b",
   "metadata": {},
   "source": [
    "##### Przykład I"
   ]
  },
  {
   "cell_type": "markdown",
   "id": "c484eca9-afd7-4c94-a03f-a68546d04251",
   "metadata": {},
   "source": [
    "$$X_{n+1} = 2 \\cdot X_{n}$$"
   ]
  },
  {
   "cell_type": "markdown",
   "id": "ddd8c666-b0fb-42bf-8eb7-273cee328895",
   "metadata": {},
   "source": [
    "dla $X_{0}=1$ pierwsze 10 liczb to:\n",
    "$$X_{1}=2$$\n",
    "$$X_{2}=4$$\n",
    "$$X_{3}=8$$\n",
    "$$X_{4}=16$$\n",
    "$$X_{5}=32$$\n",
    "$$X_{6}=64$$\n",
    "$$X_{7}=128$$\n",
    "$$X_{8}=256$$\n",
    "$$X_{9}=512$$\n",
    "$$X_{10}=1024$$\n",
    "\n",
    "Dość przewidywalne."
   ]
  },
  {
   "cell_type": "markdown",
   "id": "6d9d4b05-ac11-40fb-8c29-ae03c03cb367",
   "metadata": {},
   "source": [
    "##### Przykład II"
   ]
  },
  {
   "cell_type": "markdown",
   "id": "250d51ba-6b41-4b81-8a2d-094b7945c306",
   "metadata": {},
   "source": [
    "$$X_{n+1} = \\frac{3 \\cdot X_{n}}{4}$$"
   ]
  },
  {
   "cell_type": "markdown",
   "id": "2a923bcd-83aa-4633-b372-fcadfafcfa48",
   "metadata": {},
   "source": [
    "dla $X_{0}=12$ pierwsze 10 liczb po zaokrągleniu do 4 miejsc po przecinku to:\n",
    "\n",
    "$$X_{1}=9$$\n",
    "$$X_{2}=6.75$$\n",
    "$$X_{3}=5.0625$$\n",
    "$$X_{4}=3.7969$$\n",
    "$$X_{5}=2.8477$$\n",
    "$$X_{6}=2.1357$$\n",
    "$$X_{7}=1.6018$$\n",
    "$$X_{8}=1.2014$$\n",
    "$$X_{9}=0.901$$\n",
    "$$X_{10}=0.6758$$\n",
    "\n",
    "Nieoczywiste, ale przewidywalne."
   ]
  },
  {
   "cell_type": "markdown",
   "id": "a431ff1e-719f-4fe8-be63-fe7a84673c83",
   "metadata": {},
   "source": [
    "##### Przykład III"
   ]
  },
  {
   "cell_type": "markdown",
   "id": "e8bc8127-cae2-4280-ab48-59e35e1b8a48",
   "metadata": {},
   "source": [
    "$$ X_{n+1} = (23 \\cdot X_{n}) \\space mod \\space 97$$"
   ]
  },
  {
   "cell_type": "markdown",
   "id": "a9fde3df-3596-4de4-bbee-4f1e31d150c0",
   "metadata": {},
   "source": [
    "dla $X_{0}=1$ otrzymujemy: \n",
    "$$X_{1}=23$$\n",
    "$$X_{2}=40$$\n",
    "$$X_{3}=47$$\n",
    "$$X_{4}=42$$\n",
    "$$X_{5}=62$$\n",
    "$$X_{6}=52$$\n",
    "$$X_{7}=67$$\n",
    "$$X_{8}=16$$\n",
    "$$X_{9}=77$$\n",
    "$$X_{10}=34$$\n",
    "\n",
    "Wysoce nieoczywiste, a do tego wygląda jakby było losowe (a dokładniej **pseudolosowe**)."
   ]
  },
  {
   "cell_type": "markdown",
   "id": "6d80ebf1-3b0c-4f42-9f6a-a5a7147d18e0",
   "metadata": {},
   "source": [
    "W ogólności wzór:\n",
    "$$ X_{n+1}= (a\\cdot X_{n}+b) \\space mod \\space m$$\n",
    "znany jest pod nazwą **Liniowy generator kongruentny** (*ang. Linear Congruential Generator, LCG*) i jest zazwyczaj pierwszym przykładem omawianym na teorii generatorów liczb pseudolosowych. Wartość **$X_{0}$**, czyli liczba od której startujemy generowanie liczb nazywana jest powszechnie **ziarnem** (*ang. seed*)."
   ]
  }
 ],
 "metadata": {
  "kernelspec": {
   "display_name": "Python 3 (ipykernel)",
   "language": "python",
   "name": "python3"
  },
  "language_info": {
   "codemirror_mode": {
    "name": "ipython",
    "version": 3
   },
   "file_extension": ".py",
   "mimetype": "text/x-python",
   "name": "python",
   "nbconvert_exporter": "python",
   "pygments_lexer": "ipython3",
   "version": "3.11.1"
  }
 },
 "nbformat": 4,
 "nbformat_minor": 5
}
