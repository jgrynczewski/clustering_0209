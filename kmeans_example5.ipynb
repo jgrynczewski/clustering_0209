{
 "cells": [
  {
   "cell_type": "markdown",
   "id": "93bfe3dc-e502-42df-bc71-eea2148637b9",
   "metadata": {},
   "source": [
    "#### Silhouette"
   ]
  },
  {
   "cell_type": "markdown",
   "id": "6af26100-d8ae-47ff-9bc3-0c95100e2379",
   "metadata": {},
   "source": [
    "##### Wygenerowanie danych"
   ]
  },
  {
   "cell_type": "code",
   "execution_count": null,
   "id": "dcccdc17-3be5-4282-ab4c-c11982a8c0f8",
   "metadata": {},
   "outputs": [],
   "source": [
    "import pandas as pd\n",
    "from sklearn.datasets import make_blobs\n",
    "\n",
    "data = make_blobs(n_samples=1000, centers=3, cluster_std=1.0, center_box=(-4.0, 4.0), random_state=42)[0]\n",
    "df = pd.DataFrame(data, columns=['x1', 'x2'])\n",
    "df.head()"
   ]
  },
  {
   "cell_type": "code",
   "execution_count": null,
   "id": "4591eb8c-4393-441e-a715-906e0f261428",
   "metadata": {},
   "outputs": [],
   "source": [
    "import plotly.express as px\n",
    "\n",
    "px.scatter(df, 'x1', 'x2', width=950, height=500, title='Algorytm K-średnich', template='plotly_dark')"
   ]
  },
  {
   "cell_type": "markdown",
   "id": "7b489ae2-1699-44a6-8a63-6e60c08df521",
   "metadata": {},
   "source": [
    "Przyjmujemy pięć klastrów"
   ]
  },
  {
   "cell_type": "code",
   "execution_count": null,
   "id": "31444cdf-37de-4e26-8a69-c62e20c8b514",
   "metadata": {},
   "outputs": [],
   "source": [
    "from sklearn.cluster import KMeans\n",
    "\n",
    "kmeans = KMeans(n_clusters=5)\n",
    "kmeans.fit(data)"
   ]
  },
  {
   "cell_type": "code",
   "execution_count": null,
   "id": "bb33e4bb-7ebe-44ad-80e4-6bb9e9155f74",
   "metadata": {},
   "outputs": [],
   "source": [
    "# przypisania\n",
    "y_kmeans = kmeans.predict(data)\n",
    "df['y_kmeans'] = y_kmeans"
   ]
  },
  {
   "cell_type": "code",
   "execution_count": null,
   "id": "c1a092b2-c94e-4384-8d18-aa6858d6b348",
   "metadata": {},
   "outputs": [],
   "source": [
    "# wizualizacja\n",
    "px.scatter(\n",
    "    df, \n",
    "    'x1', \n",
    "    'x2', \n",
    "    'y_kmeans', \n",
    "    width=950, \n",
    "    height=500, \n",
    "    title='Algorytm K-średnich - 5 klastrów', \n",
    "    template='plotly_dark'\n",
    ")"
   ]
  },
  {
   "cell_type": "markdown",
   "id": "491a6b90-6e57-4dbe-b7af-55bba197d057",
   "metadata": {},
   "source": [
    "Policzmy ręcznie silhouette"
   ]
  },
  {
   "cell_type": "code",
   "execution_count": null,
   "id": "f74092be-6827-453e-9bf4-57d9efbde3da",
   "metadata": {},
   "outputs": [],
   "source": [
    "import numpy as np\n",
    "from numpy.linalg import norm\n",
    "\n",
    "def dist_to_cluster(point: np.array, cluster: pd.DataFrame) -> float:\n",
    "    \"\"\" Calculates the distance between the given point and the given cluster as a sum of distances between the given point \n",
    "    and every point in the given cluster.\"\"\"\n",
    "    \n",
    "    distance = 0\n",
    "    for index, row in cluster.iterrows():\n",
    "        cluster_point = np.array([row.x1, row.x2])\n",
    "        distance += norm(point - cluster_point)\n",
    "    return distance\n",
    "\n",
    "def a(point: np.array, cluster: pd.DataFrame) -> float:\n",
    "    \"\"\"Calculates the average distance between the given point and all other points within the same cluster as the given point.\"\"\"\n",
    "    \n",
    "    distances = dist_to_cluster(point, cluster)\n",
    "    cluster_length = cluster.shape[0]\n",
    "    return 1 / (cluster_length - 1) * distances\n",
    "\n",
    "def b(point: np.array, other_clusters: list[pd.DataFrame]) -> float:\n",
    "    \"\"\"Calculates the average distance between the given point and all points from the nearest cluster to the cluster of the given point.\"\"\"\n",
    "    \n",
    "    result = [1 / cluster.shape[0] * dist_to_cluster(point, cluster) \n",
    "              for cluster \n",
    "              in other_clusters]\n",
    "    return min(result)  # result for the nearest cluster\n",
    "\n",
    "def silhouette(point: np.array, cluster: pd.DataFrame, other_clusters: list[pd.DataFrame]) -> float:\n",
    "    \"\"\"Calculates silhouette metric for the given point.\"\"\"\n",
    "    \n",
    "    cluster_length = cluster.shape[0]\n",
    "    if cluster_length == 1:\n",
    "        return 0\n",
    "    else:\n",
    "        ar = a(point, cluster)\n",
    "        br = b(point, other_clusters)\n",
    "        return (br - ar) / max(ar, br)\n",
    "\n",
    "def silhouette_score(clusters: dict[int, pd.DataFrame]) -> float:\n",
    "    \"\"\"Calculates the silhouette score for the given list of clusters.\"\"\"\n",
    "    \n",
    "    if len(clusters) == 1:\n",
    "        return 0\n",
    "        \n",
    "    results = []\n",
    "    for cluster_nr, cluster in clusters.items():\n",
    "        print(f\"Cluster number: {cluster_nr}\")\n",
    "        other_clusters = [c for c_nr, c in clusters.items() if c_nr != cluster_nr]\n",
    "        for index, row in cluster.iterrows():\n",
    "            point = np.array([row.x1, row.x2])\n",
    "            s = silhouette(point, cluster, other_clusters)\n",
    "            results.append(s)\n",
    "    return np.mean(results)"
   ]
  },
  {
   "cell_type": "code",
   "execution_count": null,
   "id": "41d8669b-7cbb-426c-aee4-ebf351e23dd3",
   "metadata": {
    "scrolled": true
   },
   "outputs": [],
   "source": [
    "cluster_1 = df[df.y_kmeans==0]\n",
    "cluster_2 = df[df.y_kmeans==1]\n",
    "cluster_3 = df[df.y_kmeans==2]\n",
    "cluster_4 = df[df.y_kmeans==3]\n",
    "cluster_5 = df[df.y_kmeans==4]\n",
    "\n",
    "clusters = {\n",
    "    1: cluster_1, \n",
    "    2: cluster_2, \n",
    "    3: cluster_3, \n",
    "    4: cluster_4, \n",
    "    5: cluster_5\n",
    "}  # because comparing clusters wouldn't be efficience\n",
    "result = silhouette_score(clusters)\n",
    "print(result)"
   ]
  },
  {
   "cell_type": "markdown",
   "id": "9c2e9b0d-0d81-4c89-ad95-79fce523bde8",
   "metadata": {},
   "source": [
    "I znów, można ale nie trzeba liczyć tego ręcznie, bo w module metrics biblioteki sklearn mamy zaimplementowaną miarę silhouette za pomocą funkcji silhouette_score."
   ]
  },
  {
   "cell_type": "code",
   "execution_count": null,
   "id": "27f15a67-cb44-486c-add7-965896bef2a0",
   "metadata": {},
   "outputs": [],
   "source": [
    "from sklearn.metrics import silhouette_score\n",
    "\n",
    "silhouette_avg = silhouette_score(data, y_kmeans)\n",
    "print(silhouette_avg)  # drobne niedokładności z uwagi na arytmetykę zmiennoprzecinkową"
   ]
  },
  {
   "cell_type": "markdown",
   "id": "9caea02a-d860-4704-82a4-2419eca78e02",
   "metadata": {},
   "source": [
    "Metryka silhouette przyjmuje wartości z zakresu [-1, 1]. Im wyższa wartość silhouette tym lepsza jakość klasteryzacji."
   ]
  },
  {
   "cell_type": "markdown",
   "id": "915a130e-2179-4244-9314-8e8a9b4ae46e",
   "metadata": {},
   "source": [
    "#### Davies-Bouldin Index"
   ]
  },
  {
   "cell_type": "markdown",
   "id": "3e3b1d0e-a8ed-4ec9-8e5e-fc5a5b71d6d4",
   "metadata": {},
   "source": [
    "Algorytmu do obliczania indeksu DB nie będziemy już samodzielnie implementować, ale zadanie jest porównywalne z poprzednim i może być dobrym ćwiczeniem do wykonania. Moduł metrics posiada dużą liczbę metryk ewaluacji modelu."
   ]
  },
  {
   "cell_type": "code",
   "execution_count": null,
   "id": "bf2fe7ee-361f-44eb-a125-72332e4c10bb",
   "metadata": {},
   "outputs": [],
   "source": [
    "import sklearn.metrics\n",
    "\n",
    "print(dir(sklearn.metrics))"
   ]
  },
  {
   "cell_type": "markdown",
   "id": "ab566a67-ac89-4262-bc5f-1a9c684d12fa",
   "metadata": {},
   "source": [
    "Wśród nich znajduję się również Davies-Bouldin Index. Oblicza go funkcja davies_bouldin_score"
   ]
  },
  {
   "cell_type": "code",
   "execution_count": null,
   "id": "19f39b51-a85c-49c0-befe-8cbb1b497994",
   "metadata": {},
   "outputs": [],
   "source": [
    "from sklearn.metrics import davies_bouldin_score\n",
    "\n",
    "result = davies_bouldin_score(data, y_kmeans)\n",
    "print(result)"
   ]
  },
  {
   "cell_type": "markdown",
   "id": "905b9b47-c76f-4ffd-b857-24eca3ffb07f",
   "metadata": {},
   "source": [
    "Im mniejsza wartość DBI tym lepsza jakość klasteryzacji."
   ]
  },
  {
   "cell_type": "markdown",
   "id": "e998a54d-5303-4d81-af6a-d4bffd1aaf06",
   "metadata": {},
   "source": [
    "Zróbmy analizę liczby klastrów dla obu metryk."
   ]
  }
 ],
 "metadata": {
  "kernelspec": {
   "display_name": "Python 3 (ipykernel)",
   "language": "python",
   "name": "python3"
  },
  "language_info": {
   "codemirror_mode": {
    "name": "ipython",
    "version": 3
   },
   "file_extension": ".py",
   "mimetype": "text/x-python",
   "name": "python",
   "nbconvert_exporter": "python",
   "pygments_lexer": "ipython3",
   "version": "3.11.1"
  }
 },
 "nbformat": 4,
 "nbformat_minor": 5
}
