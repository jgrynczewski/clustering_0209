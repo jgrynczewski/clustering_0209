{
 "cells": [
  {
   "cell_type": "markdown",
   "id": "6c48e1c9-ca32-4df0-90b3-7c31b9f51c54",
   "metadata": {},
   "source": [
    "### DB SCAN"
   ]
  },
  {
   "cell_type": "markdown",
   "id": "e5ddc290-ee41-4304-80fb-137cce376772",
   "metadata": {},
   "source": [
    "Algorytm DBScan należy do klasy algorytmów opartych o gęstości danych. Pozawal nie tylko grupować dane, ale również wydobywać z tych danych outliery (elementy odstające, szum)."
   ]
  },
  {
   "cell_type": "markdown",
   "id": "15ec35d3-6418-4949-9fc2-b17b58865f56",
   "metadata": {},
   "source": [
    "W metodzie wyróżniamy trzy rodzaje punktów:\n",
    "- core point\n",
    "- border point\n",
    "- outlier point"
   ]
  },
  {
   "cell_type": "markdown",
   "id": "fcaa393b-ea3b-49f3-93ce-10c197306fc3",
   "metadata": {},
   "source": [
    "Poruszamy się w zakresie sąsiedztwa (zdefiniowanego parametrem eps). Wyczerpanie sąsiedztwa oznacza przejście do kolejnego klastra. Jeżeli pierwszy punkt ma mniej sąsiadów niż wartość parametru min_sample, to jest outlierem. W przeciwnym razie budujemy klaster. W odróżnieniu od innych algorytmów w algorytmie DBSCAN nie podajemy oczekiwanej liczby klastrów. Algorytm sam wyznacza liczbę klastrów na podstawie wartości parametrów eps i max_sample."
   ]
  },
  {
   "cell_type": "markdown",
   "id": "4656908c-f240-4909-bf48-eabbf4879cfa",
   "metadata": {},
   "source": [
    "#### Import bibliotek"
   ]
  },
  {
   "cell_type": "code",
   "execution_count": null,
   "id": "2dccac81-5ce0-4a1d-9b21-e3818259466c",
   "metadata": {},
   "outputs": [],
   "source": [
    "import numpy as np\n",
    "import pandas as pd\n",
    "import plotly.express as px"
   ]
  },
  {
   "cell_type": "markdown",
   "id": "15b594ec-077e-4435-b55a-d5d4de184f34",
   "metadata": {},
   "source": [
    "#### Wygenerowanie danych"
   ]
  },
  {
   "cell_type": "code",
   "execution_count": null,
   "id": "a1c3958f-1bd7-4214-b5ea-29614d584d41",
   "metadata": {},
   "outputs": [],
   "source": [
    "from sklearn.datasets import make_blobs\n",
    "\n",
    "data = make_blobs(n_samples=1000, centers=3, cluster_std=1.2, center_box=(-8.0, 8.0), random_state=42)[0]"
   ]
  },
  {
   "cell_type": "markdown",
   "id": "cf665b60-5cd9-4154-bb56-1ec85064a5d9",
   "metadata": {},
   "source": [
    "#### Wizualizacja"
   ]
  },
  {
   "cell_type": "code",
   "execution_count": null,
   "id": "e7b36e7c-f4ab-44f5-b3a0-b81b065fa49b",
   "metadata": {},
   "outputs": [],
   "source": [
    "df = pd.DataFrame(data, columns=['x1', 'x2'])\n",
    "px.scatter(df, 'x1', 'x2', width=950, height=500, title='Klasteryzacja', template='plotly_dark')"
   ]
  },
  {
   "cell_type": "markdown",
   "id": "04f605d0-33d1-4d86-aaf2-e6e3e4265d01",
   "metadata": {},
   "source": [
    "#### Model"
   ]
  },
  {
   "cell_type": "code",
   "execution_count": null,
   "id": "f9121166-a5a8-4e06-a8e4-ee1b59dfbbf2",
   "metadata": {},
   "outputs": [],
   "source": [
    "from sklearn.cluster import DBSCAN\n",
    "\n",
    "cluster = DBSCAN(eps=0.5, min_samples=5)\n",
    "cluster.fit(data)  # trenujemy"
   ]
  },
  {
   "cell_type": "code",
   "execution_count": null,
   "id": "1114a2b6-50c7-482f-958e-f7a7aab25e36",
   "metadata": {},
   "outputs": [],
   "source": [
    "cluster.labels_[:10]  # obliczone numery klastrów dla poszczególnych punktów"
   ]
  },
  {
   "cell_type": "markdown",
   "id": "ce6d38dd-a401-46f6-b6dd-f6bc858de13c",
   "metadata": {},
   "source": [
    "#### Wizualizacja grupowania"
   ]
  },
  {
   "cell_type": "code",
   "execution_count": null,
   "id": "7a37559e-bf2f-4e80-abae-66011058d17b",
   "metadata": {},
   "outputs": [],
   "source": [
    "df['cluster'] = cluster.labels_\n",
    "px.scatter(df, 'x1', 'x2', 'cluster', width=950, height=500, title='DBSCAN(eps=0.5, min_samples=5)', \n",
    "           template='plotly_dark', color_continuous_midpoint=0)\n",
    "\n",
    "# W wyniku widzimy trzy duże klastry, trzy mniejsze i sporo outlierów (klaster -1)"
   ]
  },
  {
   "cell_type": "code",
   "execution_count": null,
   "id": "afba106d-842a-487c-a503-91f4e9911fd2",
   "metadata": {},
   "outputs": [],
   "source": [
    "# modyfikujemy parametry: promień sąsiedztwa (eps) oraz minimlna liczba próbek (min_samples)\n",
    "cluster = DBSCAN(eps=0.5, min_samples=7)\n",
    "cluster.fit(data)\n",
    "\n",
    "df['cluster'] = cluster.labels_\n",
    "px.scatter(df, 'x1', 'x2', 'cluster', width=950, height=500, title='DBSCAN(eps=0.5, min_samples=7)')"
   ]
  },
  {
   "cell_type": "code",
   "execution_count": null,
   "id": "42caaba1-b4a5-40e5-97c2-5b451800144c",
   "metadata": {},
   "outputs": [],
   "source": [
    "cluster = DBSCAN(eps=0.8, min_samples=5)\n",
    "cluster.fit(data)\n",
    "\n",
    "df['cluster'] = cluster.labels_\n",
    "px.scatter(df, 'x1', 'x2', 'cluster', width=950, height=500, title='DBSCAN(eps=0.7, min_samples=5)')"
   ]
  },
  {
   "cell_type": "markdown",
   "id": "df165735-d894-4cef-ba26-a32557eeb2a8",
   "metadata": {},
   "source": [
    "#### Popatrzmy dla 4 klastrów"
   ]
  },
  {
   "cell_type": "code",
   "execution_count": null,
   "id": "c13482c7-4c31-4645-af05-878aa0f35502",
   "metadata": {},
   "outputs": [],
   "source": [
    "# generujemy nowe dane\n",
    "data = make_blobs(n_samples=1000, centers=4, cluster_std=1.2, center_box=(-8.0, 8.0), random_state=43)[0]\n",
    "df = pd.DataFrame(data, columns=['x1', 'x2'])\n",
    "px.scatter(df, 'x1', 'x2', width=950, height=500, title='DBSCAN', template='plotly_dark')\n",
    "\n",
    "# dane nie są w łatwy sposób sepraowalne"
   ]
  },
  {
   "cell_type": "code",
   "execution_count": null,
   "id": "9a4887a2-14d6-41ba-be01-1051ab21770e",
   "metadata": {},
   "outputs": [],
   "source": [
    "cluster = DBSCAN(eps=0.5, min_samples=5)\n",
    "cluster.fit(data)\n",
    "\n",
    "df['cluster'] = cluster.labels_\n",
    "print(np.unique(cluster.labels_))  # sporo (9) klastrów nie licząc outlierow\n",
    "\n",
    "px.scatter(df, 'x1', 'x2', 'cluster', width=950, height=500, title='DBSCAN(eps=0.5, min_samples=5)')"
   ]
  },
  {
   "cell_type": "markdown",
   "id": "8ae67730-ddda-4250-aef3-d1f08446c1fc",
   "metadata": {},
   "source": [
    "Popatrzmy na liczbę punktów w poszczególnych klastrach"
   ]
  },
  {
   "cell_type": "code",
   "execution_count": null,
   "id": "d9d80731-574e-4965-ac20-e76ad3c0392a",
   "metadata": {},
   "outputs": [],
   "source": [
    "df.cluster.value_counts()"
   ]
  },
  {
   "cell_type": "markdown",
   "id": "c02447c7-a50c-47a9-9f09-8c4cee3b0bfd",
   "metadata": {},
   "source": [
    "Zaraz, skoro min_samples ustawilśmy na 5, to dlaczego mamy klastry które mają po 4 punkty (klaster 5 i 7) ?"
   ]
  },
  {
   "cell_type": "markdown",
   "id": "f822c82c-457d-4c4d-b67d-1967f0b7f73a",
   "metadata": {},
   "source": [
    "Punkty graniczne, które są osiągalne z więcej niż jednego klastra, mogą być częścią każdego klastra, w zależności od kolejności przetwarzania danych (czyli decyduje kolejność przetwarzania). Taka sytuacja ma niewielki wpływ na wynik klastrowania.\n",
    "Innymi słowy punkty graniczne klastrów 5 i 7 zostały zaklasyfikowane do klastra 3 (bo klaster 3 liczony był jako pierwszy), ale widnieją jako klastry, bo liczone były niezależnie od pozostałych klastrów."
   ]
  },
  {
   "cell_type": "markdown",
   "id": "0f404b0d-5cee-47ab-b479-3307af2a2954",
   "metadata": {},
   "source": [
    "Zwiększmy epsilon"
   ]
  },
  {
   "cell_type": "code",
   "execution_count": null,
   "id": "799aea71-4c39-4011-88d6-c734ee1ae58b",
   "metadata": {},
   "outputs": [],
   "source": [
    "cluster = DBSCAN(eps=0.8, min_samples=5)\n",
    "cluster.fit(data)\n",
    "\n",
    "df['cluster'] = cluster.labels_\n",
    "px.scatter(df, 'x1', 'x2', 'cluster', width=950, height=500, title='DBSCAN(eps=0.8, min_samples=5)', template='plotly_dark')"
   ]
  },
  {
   "cell_type": "markdown",
   "id": "29e1f364-1d09-41a7-8726-7d7f11525bcc",
   "metadata": {},
   "source": [
    "Dostaliśmy dwa klastry. \n",
    "\n",
    "Widać, że parametry mogą mieć ogromny wpływ na wynik końcowy."
   ]
  },
  {
   "cell_type": "markdown",
   "id": "a5789210-06e9-4a73-b950-90f2dcfa3349",
   "metadata": {},
   "source": [
    "Spróbujmy tak dopasować parametry, żeby efekt klasteryzacji był najbliższy naszym oczekiwaniom."
   ]
  },
  {
   "cell_type": "code",
   "execution_count": null,
   "id": "672940e8-ef50-4d11-85be-15b19ba6abdf",
   "metadata": {},
   "outputs": [],
   "source": [
    "cluster = DBSCAN(eps=0.6, min_samples=6)\n",
    "cluster.fit(data)\n",
    "\n",
    "df['cluster'] = cluster.labels_\n",
    "px.scatter(df, 'x1', 'x2', 'cluster', width=950, height=500, title='DBSCAN(eps=0.6, min_samples=6)')"
   ]
  },
  {
   "cell_type": "markdown",
   "id": "6b704f98-45e6-4d67-9972-c33c96b35772",
   "metadata": {},
   "source": [
    "Popatrzmy jeszcze na klasę DBSCAN"
   ]
  },
  {
   "cell_type": "code",
   "execution_count": null,
   "id": "dd03b481-ee8e-4320-a185-da8d7a947037",
   "metadata": {},
   "outputs": [],
   "source": [
    "# parametr metric\n",
    "DBSCAN?"
   ]
  }
 ],
 "metadata": {
  "kernelspec": {
   "display_name": "Python 3 (ipykernel)",
   "language": "python",
   "name": "python3"
  },
  "language_info": {
   "codemirror_mode": {
    "name": "ipython",
    "version": 3
   },
   "file_extension": ".py",
   "mimetype": "text/x-python",
   "name": "python",
   "nbconvert_exporter": "python",
   "pygments_lexer": "ipython3",
   "version": "3.11.1"
  }
 },
 "nbformat": 4,
 "nbformat_minor": 5
}
