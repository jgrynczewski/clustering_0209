{
 "cells": [
  {
   "cell_type": "markdown",
   "id": "0d87c790-8e4c-476d-b6ce-8eae53b321ae",
   "metadata": {},
   "source": [
    "### Silhouette"
   ]
  },
  {
   "cell_type": "markdown",
   "id": "bd379a12-6630-49bb-afa2-9b41ca6c4d05",
   "metadata": {},
   "source": [
    "#### Wygenerowanie danych"
   ]
  },
  {
   "cell_type": "code",
   "execution_count": null,
   "id": "0aa314a0-15a7-4b67-9407-7a051746498f",
   "metadata": {},
   "outputs": [],
   "source": [
    "import pandas as pd\n",
    "from sklearn.datasets import make_blobs\n",
    "\n",
    "data = make_blobs(n_samples=1000, centers=3, cluster_std=1.0, center_box=(-4.0, 4.0), random_state=42)[0]\n",
    "df = pd.DataFrame(data, columns=['x1', 'x2'])\n",
    "df.head()"
   ]
  },
  {
   "cell_type": "code",
   "execution_count": null,
   "id": "a8bd5d1d-5b0f-4112-99e8-68cff306d3a8",
   "metadata": {},
   "outputs": [],
   "source": [
    "import plotly.express as px\n",
    "\n",
    "px.scatter(df, 'x1', 'x2', width=950, height=500, title='Algorytm K-średnich', template='plotly_dark')  # zróbmy na czarnym tle"
   ]
  },
  {
   "cell_type": "code",
   "execution_count": null,
   "id": "e5101d8c-2c86-4520-b472-c3bbf778b186",
   "metadata": {},
   "outputs": [],
   "source": [
    "from sklearn.cluster import KMeans\n",
    "from sklearn.metrics import silhouette_score\n",
    "\n",
    "silhouette = []\n",
    "for nr in range(2, 10):\n",
    "    kmeans = KMeans(n_clusters=nr, n_init=10)\n",
    "    kmeans.fit(data)\n",
    "    y_kmeans = kmeans.predict(data)\n",
    "    s = silhouette_score(data, y_kmeans)\n",
    "    silhouette.append(s)"
   ]
  },
  {
   "cell_type": "code",
   "execution_count": null,
   "id": "fccdf347-5526-4bbd-8012-0752ea388294",
   "metadata": {},
   "outputs": [],
   "source": [
    "# Stwórzmy df na podstawie wyliczonych wartości\n",
    "\n",
    "silhouette_df = pd.DataFrame(silhouette, columns=['silhouette'])\n",
    "silhouette_df = silhouette_df.reset_index()  # resetuje index, tworzy nową kolumnę z indeksem do której możemy się odwoływać przez 'index'\n",
    "silhouette_df = silhouette_df.rename(columns={'index': 'clusters'})\n",
    "silhouette_df['clusters'] += 2\n",
    "silhouette_df"
   ]
  },
  {
   "cell_type": "code",
   "execution_count": null,
   "id": "31f5facb-3e1e-4f18-8fed-3d6bc024cac5",
   "metadata": {},
   "outputs": [],
   "source": [
    "px.line(\n",
    "    silhouette_df, \n",
    "    x='clusters', \n",
    "    y='silhouette', \n",
    "    width=950, \n",
    "    height=500, \n",
    "    title='silhouette',\n",
    "    template='plotly_dark'\n",
    ")"
   ]
  },
  {
   "cell_type": "markdown",
   "id": "965afd50-43b2-4c3f-a915-1dc2dc5a8c6d",
   "metadata": {},
   "source": [
    "Zgodnie z przewidywaniami, metryka silhouette wskazuje, że optymalną liczbą klastrów dla naszego zagadnienia będzie liczba 3, ponieważ silhouette przyjmuje największą wartość (ale mniejszą od 1) dla 3 klastrów."
   ]
  },
  {
   "cell_type": "markdown",
   "id": "ff536879-991c-4f12-b68f-a84f14e4672b",
   "metadata": {},
   "source": [
    "### Davies-Bouldin Index"
   ]
  },
  {
   "cell_type": "code",
   "execution_count": null,
   "id": "9fbb87a6-0591-4579-8a49-288b70653684",
   "metadata": {},
   "outputs": [],
   "source": [
    "from sklearn.cluster import KMeans\n",
    "from sklearn.metrics import davies_bouldin_score\n",
    "\n",
    "dbi = []\n",
    "for nr in range(2, 10):\n",
    "    kmeans = KMeans(n_clusters=nr, n_init=10)\n",
    "    kmeans.fit(data)\n",
    "    y_kmeans = kmeans.predict(data)\n",
    "    s = davies_bouldin_score(data, y_kmeans)\n",
    "    dbi.append(s)"
   ]
  },
  {
   "cell_type": "code",
   "execution_count": null,
   "id": "f3f202e7-fdf1-4810-9fca-261c7b3f9640",
   "metadata": {},
   "outputs": [],
   "source": [
    "# Stwórzmy df na podstawie wyliczonych wartości\n",
    "\n",
    "dbi_df = pd.DataFrame(dbi, columns=['dbi'])\n",
    "dbi_df = dbi_df.reset_index()  # resetuje index, tworzy nową kolumnę z indeksem do której możemy się odwoływać przez 'index'\n",
    "dbi_df = dbi_df.rename(columns={'index': 'clusters'})\n",
    "dbi_df['clusters'] += 2\n",
    "dbi_df"
   ]
  },
  {
   "cell_type": "code",
   "execution_count": null,
   "id": "bf618d29-2cfe-4b3d-a743-aa51e3617736",
   "metadata": {},
   "outputs": [],
   "source": [
    "px.line(\n",
    "    dbi_df, \n",
    "    x='clusters', \n",
    "    y='dbi', \n",
    "    width=950, \n",
    "    height=500, \n",
    "    title='dbi',\n",
    "    template='plotly_dark'\n",
    ")"
   ]
  },
  {
   "cell_type": "markdown",
   "id": "93534fd6-db5e-4319-9a41-861150efd8a1",
   "metadata": {},
   "source": [
    "Identyczny wynik co dla metryki silhouette otrzymujemy dla Davies-Bouldin Index. DBI ma najmniejszą wartość dla liczby klastrów 3, dlatego na podsatwie indeksu Davies-Bouldin optymalną liczbą klastrów dla naszego zagadnienia jest 3."
   ]
  }
 ],
 "metadata": {
  "kernelspec": {
   "display_name": "Python 3 (ipykernel)",
   "language": "python",
   "name": "python3"
  },
  "language_info": {
   "codemirror_mode": {
    "name": "ipython",
    "version": 3
   },
   "file_extension": ".py",
   "mimetype": "text/x-python",
   "name": "python",
   "nbconvert_exporter": "python",
   "pygments_lexer": "ipython3",
   "version": "3.11.1"
  }
 },
 "nbformat": 4,
 "nbformat_minor": 5
}
