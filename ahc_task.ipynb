{
 "cells": [
  {
   "cell_type": "markdown",
   "id": "698c7ab2-7e6f-4ad9-bb25-349dc7ec0c35",
   "metadata": {},
   "source": [
    "#### Zadanie 6"
   ]
  },
  {
   "cell_type": "markdown",
   "id": "05413f52-8f06-4dfc-b16b-746684fe833b",
   "metadata": {},
   "source": [
    "Przeprowadź analizę skupień za pomocą algorytmu ahc na zbiorze danych Eurowizji 2016, w którym za wiersze służą kraje, a za kolumny ilości punktów, które przyznały poszczególnym piosenkom - 'data/eurovision-2016.csv'"
   ]
  }
 ],
 "metadata": {
  "kernelspec": {
   "display_name": "Python 3 (ipykernel)",
   "language": "python",
   "name": "python3"
  },
  "language_info": {
   "codemirror_mode": {
    "name": "ipython",
    "version": 3
   },
   "file_extension": ".py",
   "mimetype": "text/x-python",
   "name": "python",
   "nbconvert_exporter": "python",
   "pygments_lexer": "ipython3",
   "version": "3.11.1"
  }
 },
 "nbformat": 4,
 "nbformat_minor": 5
}
