{
 "cells": [
  {
   "cell_type": "markdown",
   "id": "d68d51c7-3c24-4969-ba0d-60802570c110",
   "metadata": {},
   "source": [
    "### Zastosowanie algorytmu k-średnich w segmentacji obrazu. "
   ]
  },
  {
   "cell_type": "markdown",
   "id": "6ee7d066-d2bf-4c53-b46d-ee9aef73f512",
   "metadata": {},
   "source": [
    "Jednym z popularnych zastosowań algorytmu k-means jest segmentacja obrazu."
   ]
  },
  {
   "cell_type": "code",
   "execution_count": null,
   "id": "f231a474-fad9-4ca0-827c-8bc3b853e623",
   "metadata": {},
   "outputs": [],
   "source": [
    "import numpy as np\n",
    "import pandas as pd\n",
    "import matplotlib.pyplot as plt\n",
    "import cv2"
   ]
  },
  {
   "cell_type": "code",
   "execution_count": null,
   "id": "7449d577-d36c-48f5-9a47-e958d8bd653c",
   "metadata": {},
   "outputs": [],
   "source": [
    "img = cv2.imread('data/img1.jpg')  # wczytujemy obraz\n",
    "img.shape  # zdjęcie kolorowe"
   ]
  },
  {
   "cell_type": "code",
   "execution_count": null,
   "id": "4f6d17f3-135a-4e81-971b-f56f882371ea",
   "metadata": {},
   "outputs": [],
   "source": [
    "img"
   ]
  },
  {
   "cell_type": "code",
   "execution_count": null,
   "id": "e6f16745-37bb-4032-8b21-34757d5fad79",
   "metadata": {},
   "outputs": [],
   "source": [
    "# wyświetlamy\n",
    "plt.imshow(img[:,:,::-1])  # numpy i matplotlib mają odwrotną kolejność kanałów"
   ]
  },
  {
   "cell_type": "markdown",
   "id": "91bdbf83-48b6-46e5-b54c-4d7017a632e6",
   "metadata": {},
   "source": [
    "Zróbmy z tego ndarray trzykolumnowy dataframe, po jednej kolumnie na każdy kanał."
   ]
  },
  {
   "cell_type": "code",
   "execution_count": null,
   "id": "c30aeeab-2bfd-4f65-b4a2-ef141a3a86ab",
   "metadata": {},
   "outputs": [],
   "source": [
    "# przygotowanie obrazu do modelu\n",
    "img_data = img.reshape((-1, 3))  # zmieniamy kształt\n",
    "img_data = np.float32(img_data)  # konwertujemy do float32\n",
    "img_data.shape"
   ]
  },
  {
   "cell_type": "code",
   "execution_count": null,
   "id": "f53e592a-3391-4173-8114-5ec3943abbfb",
   "metadata": {},
   "outputs": [],
   "source": [
    "df = pd.DataFrame(data=img_data, columns=['dim1', 'dim2', 'dim3'])\n",
    "df"
   ]
  },
  {
   "cell_type": "markdown",
   "id": "c80a90e6-4b8e-441c-9524-fd57832149c2",
   "metadata": {},
   "source": [
    "Tym razem nie użyjemy klasy KMeans biblioteki scikit-learn, tylko funkcji kmeans biblioteki openCV"
   ]
  },
  {
   "cell_type": "code",
   "execution_count": null,
   "id": "38ba582b-32dd-4608-b34f-01655371edc9",
   "metadata": {},
   "outputs": [],
   "source": [
    "# popatrzmy na nią\n",
    "cv2.kmeans?\n",
    "\n",
    "# parametry na wejściu\n",
    "# data \n",
    "# K - liczba klastrów\n",
    "# bestLabels - etykiety\n",
    "# criteria - warunek stopu\n",
    "# attempts - liczba uruchomień algorytmu\n",
    "\n",
    "# dostajemy trzy wartości\n",
    "# compactness = wss\n",
    "# labels = etykiety: '1', '2', ...\n",
    "# centers = centroidy"
   ]
  },
  {
   "cell_type": "code",
   "execution_count": null,
   "id": "bfced1a8-b21f-4605-8dd4-870515c6a305",
   "metadata": {},
   "outputs": [],
   "source": [
    "# uruchamiamy\n",
    "_, label, center = cv2.kmeans(\n",
    "    data=img_data,  # float32 data type\n",
    "    K=2,            # liczba klastrów\n",
    "    bestLabels=None,\n",
    "    criteria=(cv2.TERM_CRITERIA_EPS + cv2.TERM_CRITERIA_MAX_ITER, 10, 1.0),  # kryterium zatrzymania (typ, max_iter, eps)\n",
    "    attempts=10,    # liczba uruchomień algorytmu \n",
    "    flags=cv2.KMEANS_RANDOM_CENTERS\n",
    ")    # określenie inicjalizacji centroidów (losowe)\n",
    "\n",
    "center = np.uint8(center)\n",
    "res = center[label.flatten()]\n",
    "res = res.reshape((img.shape))\n",
    "plt.imshow(res[:,:,::-1])"
   ]
  },
  {
   "cell_type": "code",
   "execution_count": null,
   "id": "5a2f5174-63db-4b66-bafa-0f69d46120e4",
   "metadata": {},
   "outputs": [],
   "source": [
    "# Napiszmy funkcję, która pozwoli nam cały ten proces zautomatyzować\n",
    "\n",
    "def make_kmeans(img_name: str, cluster_nr: int = 2) -> None:\n",
    "\n",
    "    # wczytanie zdjęcia\n",
    "    img = cv2.imread(img_name)\n",
    "    plt.imshow(img[:,:,::-1])\n",
    "    plt.show()\n",
    "    \n",
    "    # przygotowanie zdjęcia\n",
    "    img_data = img.reshape((-1, 3))\n",
    "    img_data = np.float32(img_data)\n",
    "\n",
    "    # kmeans\n",
    "    _, label, center = cv2.kmeans(\n",
    "        data=img_data, \n",
    "        K=cluster_nr, \n",
    "        bestLabels=None,\n",
    "        criteria=(cv2.TERM_CRITERIA_EPS + cv2.TERM_CRITERIA_MAX_ITER, 10, 1.0), \n",
    "        attempts=10, \n",
    "        flags=cv2.KMEANS_RANDOM_CENTERS)\n",
    "\n",
    "    # przygotowanie do wyświetlenia\n",
    "    center = np.uint8(center)\n",
    "    res = center[label.flatten()]\n",
    "    res = res.reshape((img.shape))\n",
    "    plt.imshow(res[:,:,::-1])\n",
    "    plt.show()"
   ]
  },
  {
   "cell_type": "code",
   "execution_count": null,
   "id": "4464113c-66a9-4bde-8294-44a0f015ca28",
   "metadata": {},
   "outputs": [],
   "source": [
    "make_kmeans(\"data/img1.jpg\")"
   ]
  },
  {
   "cell_type": "markdown",
   "id": "c0653101-94f5-4b6a-9251-35f997b71c2c",
   "metadata": {},
   "source": [
    "Do czego możemy używać ?\n",
    "\n",
    "1. detekcja obiektów"
   ]
  },
  {
   "cell_type": "code",
   "execution_count": null,
   "id": "2240910a-d2e6-4bfe-9d7e-a53f0fda8ad6",
   "metadata": {},
   "outputs": [],
   "source": [
    "make_kmeans(\"data/img2.jpg\")"
   ]
  },
  {
   "cell_type": "code",
   "execution_count": null,
   "id": "fc0b9d19-5071-400a-a4c1-5189bfd92165",
   "metadata": {},
   "outputs": [],
   "source": [
    "make_kmeans(\"data/img2.jpg\", 6)"
   ]
  },
  {
   "cell_type": "markdown",
   "id": "9f2a995a-35b1-475c-898b-448ab16ca8f0",
   "metadata": {},
   "source": [
    "2. Kompresja obrazu"
   ]
  },
  {
   "cell_type": "code",
   "execution_count": null,
   "id": "bf7a7be1-890f-47b9-a4fe-24ca5a54b4e2",
   "metadata": {},
   "outputs": [],
   "source": [
    "make_kmeans(\"data/img3.jpg\")"
   ]
  },
  {
   "cell_type": "code",
   "execution_count": null,
   "id": "86cdc474-45c3-4769-8012-2b4a59d383c2",
   "metadata": {},
   "outputs": [],
   "source": [
    "# Popatrzmy od 2 do 20\n",
    "\n",
    "# wczytanie zdjęcia\n",
    "img = cv2.imread('data/img3.jpg')\n",
    "plt.imshow(img[:,:,::-1])\n",
    "plt.show()\n",
    "\n",
    "# przygotowanie zdjęcia\n",
    "img_data = img.reshape((-1, 3))\n",
    "img_data = np.float32(img_data)\n",
    "\n",
    "for cluster_nr in range(2, 20, 4):\n",
    "    print(f\"Liczba klastrów: {cluster_nr}\")\n",
    "    _, label, center = cv2.kmeans(\n",
    "        data=img_data,  # float32 data type\n",
    "        K=cluster_nr,            # liczba klastrów\n",
    "        bestLabels=None,\n",
    "        criteria=(cv2.TERM_CRITERIA_EPS + cv2.TERM_CRITERIA_MAX_ITER, 10, 1.0),  # kryterium zatrzymania (typ, max_iter, eps)\n",
    "        attempts=10,    # liczba uruchomień algorytmu \n",
    "        flags=cv2.KMEANS_RANDOM_CENTERS\n",
    "    )    # określenie inicjalizacji centroidów (losowe)\n",
    "    \n",
    "    center = np.uint8(center)\n",
    "    res = center[label.flatten()]\n",
    "    res = res.reshape((img.shape))\n",
    "    plt.imshow(res[:,:,::-1])\n",
    "    plt.show()"
   ]
  },
  {
   "cell_type": "markdown",
   "id": "3e7bc8d0-4b26-4a25-ab94-d78e504600e4",
   "metadata": {},
   "source": [
    "3. Konwersja obrazu (wstępne przetwarzanie)"
   ]
  },
  {
   "cell_type": "code",
   "execution_count": null,
   "id": "457db321-6a86-4dda-8f81-90ba4714646f",
   "metadata": {},
   "outputs": [],
   "source": [
    "make_kmeans(\"data/img4.png\", 2)"
   ]
  }
 ],
 "metadata": {
  "kernelspec": {
   "display_name": "Python 3 (ipykernel)",
   "language": "python",
   "name": "python3"
  },
  "language_info": {
   "codemirror_mode": {
    "name": "ipython",
    "version": 3
   },
   "file_extension": ".py",
   "mimetype": "text/x-python",
   "name": "python",
   "nbconvert_exporter": "python",
   "pygments_lexer": "ipython3",
   "version": "3.11.1"
  }
 },
 "nbformat": 4,
 "nbformat_minor": 5
}
