{
 "cells": [
  {
   "cell_type": "markdown",
   "id": "863cc73b-541f-413c-b735-cb555b5ae501",
   "metadata": {},
   "source": [
    "### Klasteryzacja k-średnich \n",
    "(<i>ang. k-means clustering</i>)\n",
    "\n",
    "aka algorytm/grupowanie k-średnich\n",
    "\n",
    "wizualizacja: https://www.naftaliharris.com/blog/visualizing-k-means-clustering/"
   ]
  },
  {
   "cell_type": "markdown",
   "id": "c8d55f58-9f9a-4429-90f5-537723f7e4e4",
   "metadata": {},
   "source": [
    "#### 1. Teoria"
   ]
  },
  {
   "cell_type": "markdown",
   "id": "9914cfe7-90fe-4ff1-942d-f580ca32cb2b",
   "metadata": {},
   "source": [
    "##### A. Wygenerowanie danych"
   ]
  },
  {
   "cell_type": "markdown",
   "id": "2fa0fc24-054a-450e-8313-a03c9208864f",
   "metadata": {},
   "source": [
    "Jak sama nazwa wskazuje algorytm wymaga wskazania wartości parametru k, czyli liczby skupień, które chcemy znaleźć/wyodrębnić z danych. Przyjmijmy, że nasze dane grupują się w trzy klastry."
   ]
  },
  {
   "cell_type": "markdown",
   "id": "43578044-5e69-4c15-9083-f34f32f807ad",
   "metadata": {},
   "source": [
    "Przyjmijmy zestaw danych roboczych. "
   ]
  },
  {
   "cell_type": "code",
   "execution_count": null,
   "id": "6ddb4008-690b-4bb5-87b9-7eac4b75566e",
   "metadata": {},
   "outputs": [],
   "source": [
    "import pandas as pd\n",
    "from sklearn.datasets import make_blobs\n",
    "\n",
    "# funkcja make_blobs pozwala na wygenerowanie danych \n",
    "# 50 próbek w trzech klastrach z odchyleniem standardowym punktów w klastrze 1 i środkiem w granicy (-4, 4) dla każdego wymiaru, ziarno 81\n",
    "data = make_blobs(n_samples=50, centers=3, cluster_std=1.0, center_box=(-4.0, 4.0), random_state=81)[0]\n",
    "\n",
    "# z danych tworzymy dataframe, zmienne nazwiemy x1, x2\n",
    "df = pd.DataFrame(data, columns=['x1', 'x2'])\n",
    "df.head()"
   ]
  },
  {
   "cell_type": "markdown",
   "id": "0236564d-41c7-4e8c-8165-b53e81499df8",
   "metadata": {},
   "source": [
    "##### B. Wizualizacja danych"
   ]
  },
  {
   "cell_type": "code",
   "execution_count": null,
   "id": "f6085ffa-2e21-4e27-b123-94ad68a20e4f",
   "metadata": {},
   "outputs": [],
   "source": [
    "# dataframe łatwo wizualizować z użyciem biblioteki plotly\n",
    "import plotly.express as px\n",
    "\n",
    "# scatter - wykres punktowy\n",
    "fig = px.scatter(df, 'x1', 'x2', width=950, height=500, title='Dane robocze')\n",
    "fig.update_traces(marker_size=12)"
   ]
  },
  {
   "cell_type": "markdown",
   "id": "f545b86a-0804-4b92-abaa-6da04417c9d3",
   "metadata": {},
   "source": [
    "##### C. Wyznaczenie losowych centroidów dla poszczególnych klastrów (aka punktów startowych)"
   ]
  },
  {
   "cell_type": "markdown",
   "id": "1fd3a653-3566-4ef7-bee2-bcaec2782d87",
   "metadata": {},
   "source": [
    "**Wartości brzegowe zbioru danych**"
   ]
  },
  {
   "cell_type": "code",
   "execution_count": null,
   "id": "2161f30e-9ac9-4e5e-b423-7c7d50e002c8",
   "metadata": {},
   "outputs": [],
   "source": [
    "x1_min = df.x1.min()\n",
    "x1_max = df.x1.max()\n",
    "\n",
    "x2_min = df.x2.min()\n",
    "x2_max = df.x2.max()\n",
    "\n",
    "print(f\"x1_min: {x1_min}, x1_max: {x1_max}\")\n",
    "print(f\"x2_min: {x2_min}, x2_max: {x2_max}\")"
   ]
  },
  {
   "cell_type": "markdown",
   "id": "e43e627a-6d70-4058-8a22-eaa730d2e69d",
   "metadata": {},
   "source": [
    "**Wylosowanie centroidów poszczególnych klastrów**"
   ]
  },
  {
   "cell_type": "code",
   "execution_count": null,
   "id": "638d5be8-6c75-4141-9669-eddb9fbbbb75",
   "metadata": {},
   "outputs": [],
   "source": [
    "import random\n",
    "\n",
    "random.seed(1)  # ziarno random\n",
    "\n",
    "# Losowe środki ciężkości (centroidy) klastrów\n",
    "centroids = []\n",
    "for idx in range(3):\n",
    "    centroids.append([random.uniform(x1_min, x1_max), random.uniform(x2_min, x2_max)])\n",
    "centroids.sort()\n",
    "\n",
    "centroid_1, centroid_2, centroid_3 = centroids\n",
    "print(centroid_1)\n",
    "print(centroid_2)\n",
    "print(centroid_3)"
   ]
  },
  {
   "cell_type": "markdown",
   "id": "31551955-bce5-429f-9dca-eb88035445b9",
   "metadata": {},
   "source": [
    "**Wizualizacja wylosowanych centroidów**"
   ]
  },
  {
   "cell_type": "code",
   "execution_count": null,
   "id": "d6d6684a-2422-4003-a15c-865653a3701a",
   "metadata": {},
   "outputs": [],
   "source": [
    "cluster_1_color = 'lightgreen'\n",
    "cluster_2_color = 'yellow'\n",
    "cluster_3_color = 'red'"
   ]
  },
  {
   "cell_type": "code",
   "execution_count": null,
   "id": "e08db462-4732-436d-90bc-8bfa0d264fe2",
   "metadata": {},
   "outputs": [],
   "source": [
    "import plotly.graph_objects as go\n",
    "\n",
    "fig = px.scatter(df, 'x1', 'x2', width=950, height=500, title='Algorytm K-średnich - inicjalizacja centroidów')\n",
    "\n",
    "fig.add_trace(go.Scatter(x=[centroid_1[0]], y=[centroid_1[1]], name='centroid 1', mode='markers', marker_line_width=3, marker_color=cluster_1_color, marker_symbol='diamond'))\n",
    "fig.add_annotation(\n",
    "    x=centroid_1[0],\n",
    "    y=centroid_1[1], \n",
    "    text=\"Centroid 1\"\n",
    ")\n",
    "\n",
    "fig.add_trace(go.Scatter(x=[centroid_2[0]], y=[centroid_2[1]], name='centroid 2', mode='markers', marker_line_width=3, marker_color=cluster_2_color, marker_symbol='diamond'))\n",
    "fig.add_annotation(\n",
    "    x=centroid_2[0],\n",
    "    y=centroid_2[1], \n",
    "    text=\"Centroid 2\"\n",
    ")\n",
    "\n",
    "fig.add_trace(go.Scatter(x=[centroid_3[0]], y=[centroid_3[1]], name='centroid 3', mode='markers', marker_line_width=3, marker_color=cluster_3_color, marker_symbol='diamond'))\n",
    "fig.add_annotation(\n",
    "    x=centroid_3[0],\n",
    "    y=centroid_3[1], \n",
    "    text=\"Centroid 3\"\n",
    ")\n",
    "\n",
    "fig.update_traces(marker_size=12, showlegend=False)"
   ]
  },
  {
   "cell_type": "markdown",
   "id": "17fa149f-a105-4925-b7b9-d58e538cbec1",
   "metadata": {},
   "source": [
    "**Przypisanie punktów do najbliższego centroidu**"
   ]
  },
  {
   "cell_type": "code",
   "execution_count": null,
   "id": "785bb63c-9ee7-4474-a67e-1832ca02851f",
   "metadata": {},
   "outputs": [],
   "source": [
    "from numpy.linalg import norm  # pozwala policzyć normę wektora (czyli długość)\n",
    "\n",
    "clusters = []\n",
    "for point in data:\n",
    "    # centroid_1_dist = np.sqrt((centroid_1[0] - point[0])**2 + (centroid_1[1] - point[1])**2)\n",
    "    # centroid_2_dist = np.sqrt((centroid_2[0] - point[0])**2 + (centroid_2[1] - point[1])**2)\n",
    "    # centroid_3_dist = np.sqrt((centroid_3[0] - point[0])**2 + (centroid_3[1] - point[1])**2)\n",
    "\n",
    "    centroid_1_dist = norm(centroid_1 - point)  # norma (długość) wektora reprezentującego odleglosc pomiedzy `centroid_1` i `point`\n",
    "    centroid_2_dist = norm(centroid_2 - point)\n",
    "    centroid_3_dist = norm(centroid_3 - point)\n",
    "    \n",
    "    centroids_dist = [centroid_1_dist, centroid_2_dist, centroid_3_dist]\n",
    "    cluster_nr = centroids_dist.index(min(centroids_dist)) + 1\n",
    "    clusters.append(cluster_nr)\n",
    "\n",
    "df['cluster'] = clusters\n",
    "df.head()"
   ]
  },
  {
   "cell_type": "markdown",
   "id": "18cfd037-b6c5-4916-8525-385ccf3828f9",
   "metadata": {},
   "source": [
    "Wizualizacja przypisań punktów do klastrów"
   ]
  },
  {
   "cell_type": "code",
   "execution_count": null,
   "id": "8e8e7547-b70a-4007-bc10-58c7c6bdca48",
   "metadata": {},
   "outputs": [],
   "source": [
    "# klaster 1\n",
    "fig = px.scatter(\n",
    "    df.loc[df['cluster']==1],\n",
    "    'x1',\n",
    "    'x2',\n",
    "    width=800,\n",
    "    height=800,\n",
    "    color_discrete_sequence=[cluster_1_color],\n",
    "    title='Algorytm K-średnich - iteracja I - punkty najbliższe centroidowi 1',\n",
    ")\n",
    "fig.add_trace(go.Scatter(x=[centroid_1[0]], y=[centroid_1[1]], name='centroid 1', mode='markers', marker_line_width=3, marker_color=cluster_1_color, marker_symbol='diamond'))\n",
    "\n",
    "fig.add_trace(go.Scatter(x=df.loc[df['cluster']==2].x1, y=df.loc[df['cluster']==2].x2, name='centroid 2', mode='markers', marker_color=\"blue\"))\n",
    "fig.add_trace(go.Scatter(x=[centroid_2[0]], y=[centroid_2[1]], name='centroid 2', mode='markers', marker_line_width=3, marker_color=cluster_2_color, marker_symbol='diamond'))\n",
    "\n",
    "fig.add_trace(go.Scatter(x=df.loc[df['cluster']==3].x1, y=df.loc[df['cluster']==3].x2, name='centroid 2', mode='markers', marker_color=\"blue\"))\n",
    "fig.add_trace(go.Scatter(x=[centroid_3[0]], y=[centroid_3[1]], name='centroid 3', mode='markers', marker_line_width=3, marker_color=cluster_3_color, marker_symbol='diamond'))\n",
    "\n",
    "fig.update_traces(marker_size=12)\n",
    "fig.update_yaxes(\n",
    "    scaleanchor=\"x\",\n",
    "    scaleratio=1,\n",
    ")  # wyrównujemy skalę, żeby odległości pomiędzy punktami nie były zaburzone na wizualizacji\n",
    "fig.update_xaxes(tick0=0, dtick=2)\n",
    "\n",
    "\n",
    "fig.update_layout(showlegend=False)"
   ]
  },
  {
   "cell_type": "code",
   "execution_count": null,
   "id": "739e541b-8600-481c-afbd-7c3de28b4c56",
   "metadata": {},
   "outputs": [],
   "source": [
    "# klaster 2\n",
    "fig = px.scatter(\n",
    "    df.loc[df['cluster']==1],\n",
    "    'x1',\n",
    "    'x2',\n",
    "    width=800,\n",
    "    height=800,\n",
    "    color_discrete_sequence=[\"blue\"],\n",
    "    title='Algorytm K-średnich - iteracja I - punkty najbliższe centroidowi 2'\n",
    ")\n",
    "fig.add_trace(go.Scatter(x=[centroid_1[0]], y=[centroid_1[1]], name='centroid 1', mode='markers', marker_line_width=3, marker_color=cluster_1_color, marker_symbol='diamond'))\n",
    "\n",
    "fig.add_trace(go.Scatter(x=df.loc[df['cluster']==2].x1, y=df.loc[df['cluster']==2].x2, name='centroid 2', mode='markers', marker_color=cluster_2_color))\n",
    "fig.add_trace(go.Scatter(x=[centroid_2[0]], y=[centroid_2[1]], name='centroid 2', mode='markers', marker_line_width=3, marker_color=cluster_2_color, marker_symbol='diamond'))\n",
    "\n",
    "fig.add_trace(go.Scatter(x=df.loc[df['cluster']==3].x1, y=df.loc[df['cluster']==3].x2, name='centroid 2', mode='markers', marker_color=\"blue\"))\n",
    "fig.add_trace(go.Scatter(x=[centroid_3[0]], y=[centroid_3[1]], name='centroid 3', mode='markers', marker_line_width=3, marker_color=cluster_3_color, marker_symbol='diamond'))\n",
    "\n",
    "fig.update_traces(marker_size=12)\n",
    "fig.update_yaxes(\n",
    "    scaleanchor=\"x\",\n",
    "    scaleratio=1,\n",
    ")  # wyrównujemy skalę, żeby odległości pomiędzy punktami nie były zaburzone na wizualizacji\n",
    "fig.update_xaxes(tick0=0, dtick=2)\n",
    "\n",
    "\n",
    "fig.update_layout(showlegend=False)"
   ]
  },
  {
   "cell_type": "code",
   "execution_count": null,
   "id": "1d576d6d-ffbd-4e26-ab20-3c1e5f2ba1e3",
   "metadata": {},
   "outputs": [],
   "source": [
    "# klaster 3\n",
    "fig = px.scatter(\n",
    "    df.loc[df['cluster']==1],\n",
    "    'x1',\n",
    "    'x2',\n",
    "    width=800,\n",
    "    height=800,\n",
    "    color_discrete_sequence=[\"blue\"],\n",
    "    title='Algorytm K-średnich - iteracja I - punkty najbliższe centroidowi 3'\n",
    ")\n",
    "fig.add_trace(go.Scatter(x=[centroid_1[0]], y=[centroid_1[1]], name='centroid 1', mode='markers', marker_line_width=3, marker_color=cluster_1_color, marker_symbol='diamond'))\n",
    "\n",
    "fig.add_trace(go.Scatter(x=df.loc[df['cluster']==2].x1, y=df.loc[df['cluster']==2].x2, name='centroid 2', mode='markers', marker_color=\"blue\"))\n",
    "fig.add_trace(go.Scatter(x=[centroid_2[0]], y=[centroid_2[1]], name='centroid 2', mode='markers', marker_line_width=3, marker_color=cluster_2_color, marker_symbol='diamond'))\n",
    "\n",
    "fig.add_trace(go.Scatter(x=df.loc[df['cluster']==3].x1, y=df.loc[df['cluster']==3].x2, name='centroid 2', mode='markers', marker_color=cluster_3_color))\n",
    "fig.add_trace(go.Scatter(x=[centroid_3[0]], y=[centroid_3[1]], name='centroid 3', mode='markers', marker_line_width=3, marker_color=cluster_3_color, marker_symbol='diamond'))\n",
    "\n",
    "fig.update_traces(marker_size=12)\n",
    "fig.update_yaxes(\n",
    "    scaleanchor=\"x\",\n",
    "    scaleratio=1,\n",
    ")  # wyrównujemy skalę, żeby odległości pomiędzy punktami nie były zaburzone na wizualizacji\n",
    "fig.update_xaxes(tick0=0, dtick=2)\n",
    "\n",
    "\n",
    "fig.update_layout(showlegend=False)"
   ]
  },
  {
   "cell_type": "code",
   "execution_count": null,
   "id": "f069261e-4c50-4d2e-8bec-c14c242561c6",
   "metadata": {},
   "outputs": [],
   "source": [
    "# wszystkie klastry\n",
    "fig = px.scatter(\n",
    "    df.loc[df['cluster']==1],\n",
    "    'x1',\n",
    "    'x2',\n",
    "    width=800,\n",
    "    height=800,\n",
    "    color_discrete_sequence=[cluster_1_color],\n",
    "    title='Algorytm K-średnich - iteracja I - przypisanie punktów do najbliższego centroidu',\n",
    ")\n",
    "fig.add_trace(go.Scatter(x=[centroid_1[0]], y=[centroid_1[1]], name='centroid 1', mode='markers', marker_line_width=3, marker_color=cluster_1_color, marker_symbol='diamond'))\n",
    "\n",
    "fig.add_trace(go.Scatter(x=df.loc[df['cluster']==2].x1, y=df.loc[df['cluster']==2].x2, name='centroid 2', mode='markers', marker_color=cluster_2_color))\n",
    "fig.add_trace(go.Scatter(x=[centroid_2[0]], y=[centroid_2[1]], name='centroid 2', mode='markers', marker_line_width=3, marker_color=cluster_2_color, marker_symbol='diamond'))\n",
    "\n",
    "fig.add_trace(go.Scatter(x=df.loc[df['cluster']==3].x1, y=df.loc[df['cluster']==3].x2, name='centroid 2', mode='markers', marker_color=cluster_3_color))\n",
    "fig.add_trace(go.Scatter(x=[centroid_3[0]], y=[centroid_3[1]], name='centroid 3', mode='markers', marker_line_width=3, marker_color=cluster_3_color, marker_symbol='diamond'))\n",
    "\n",
    "fig.update_traces(marker_size=12)\n",
    "fig.update_yaxes(\n",
    "    scaleanchor=\"x\",\n",
    "    scaleratio=1,\n",
    ")  # wyrównujemy skalę, żeby odległości pomiędzy punktami nie były zaburzone na wizualizacji\n",
    "fig.update_xaxes(tick0=0, dtick=2)\n",
    "\n",
    "\n",
    "fig.update_layout(showlegend=False)"
   ]
  },
  {
   "cell_type": "markdown",
   "id": "eebc4b33-0a36-48d7-9b8c-ac7f20215ba8",
   "metadata": {},
   "source": [
    "**Znalezienie środków cięzkości otrzymanych klastrów**"
   ]
  },
  {
   "cell_type": "code",
   "execution_count": null,
   "id": "d3fa23e9-ef7c-4afd-bd75-7c4868aec350",
   "metadata": {},
   "outputs": [],
   "source": [
    "# obliczenie nowych współrzędnych centroidów jako środki ciężkości (średnie arytmetyczne punktów) klastra.\n",
    "mean_cluster_1 = [df[df.cluster == 1].x1.mean(), df[df.cluster == 1].x2.mean()]\n",
    "mean_cluster_2 = [df[df.cluster == 2].x1.mean(), df[df.cluster == 2].x2.mean()]\n",
    "mean_cluster_3 = [df[df.cluster == 3].x1.mean(), df[df.cluster == 3].x2.mean()]\n",
    "\n",
    "print(mean_cluster_1)\n",
    "print(mean_cluster_2)\n",
    "print(mean_cluster_3)"
   ]
  },
  {
   "cell_type": "code",
   "execution_count": null,
   "id": "9ec6ea9b-1378-4d91-8d26-98ef9916dc96",
   "metadata": {},
   "outputs": [],
   "source": [
    "fig = px.scatter(\n",
    "    df.loc[df['cluster']==1],\n",
    "    'x1',\n",
    "    'x2',\n",
    "    width=800,\n",
    "    height=800,\n",
    "    color_discrete_sequence=[cluster_1_color],\n",
    "    title='Algorytm K-średnich - iteracja I - środki ciężkości nowych klastrów',\n",
    ")\n",
    "fig.add_trace(go.Scatter(x=[centroid_1[0]], y=[centroid_1[1]], name='centroid 1', mode='markers', marker_line_width=3, marker_color=cluster_1_color, marker_symbol='diamond'))\n",
    "fig.add_trace(go.Scatter(x=[mean_cluster_1[0]], y=[mean_cluster_1[1]], name='gravity center 1', mode='markers', marker_line_width=3, marker_color=\"black\", marker_symbol='x-thin'))\n",
    "\n",
    "fig.add_trace(go.Scatter(x=df.loc[df['cluster']==2].x1, y=df.loc[df['cluster']==2].x2, name='centroid 2', mode='markers', marker_color=cluster_2_color))\n",
    "fig.add_trace(go.Scatter(x=[centroid_2[0]], y=[centroid_2[1]], name='centroid 2', mode='markers', marker_line_width=3, marker_color=cluster_2_color, marker_symbol='diamond'))\n",
    "fig.add_trace(go.Scatter(x=[mean_cluster_2[0]], y=[mean_cluster_2[1]], name='gravity center 2', mode='markers', marker_line_width=3, marker_color=\"black\", marker_symbol='x-thin'))\n",
    "\n",
    "fig.add_trace(go.Scatter(x=df.loc[df['cluster']==3].x1, y=df.loc[df['cluster']==3].x2, name='centroid 2', mode='markers', marker_color=cluster_3_color))\n",
    "fig.add_trace(go.Scatter(x=[centroid_3[0]], y=[centroid_3[1]], name='centroid 3', mode='markers', marker_line_width=3, marker_color=cluster_3_color, marker_symbol='diamond'))\n",
    "fig.add_trace(go.Scatter(x=[mean_cluster_3[0]], y=[mean_cluster_3[1]], name='gravity center 3', mode='markers', marker_line_width=3, marker_color=\"black\", marker_symbol='x-thin'))\n",
    "\n",
    "fig.update_traces(marker_size=12)\n",
    "fig.update_yaxes(\n",
    "    scaleanchor=\"x\",\n",
    "    scaleratio=1,\n",
    ")  # wyrównujemy skalę obu osi, żeby odległości pomiędzy punktami nie były zaburzone na wizualizacji\n",
    "fig.update_xaxes(tick0=0, dtick=2)\n",
    "\n",
    "\n",
    "fig.update_layout(showlegend=False)"
   ]
  },
  {
   "cell_type": "code",
   "execution_count": null,
   "id": "ce852ea2-d853-4e5a-b120-2fc6b079945a",
   "metadata": {},
   "outputs": [],
   "source": [
    "fig = px.scatter(\n",
    "    df.loc[df['cluster']==1],\n",
    "    'x1',\n",
    "    'x2',\n",
    "    width=800,\n",
    "    height=800,\n",
    "    color_discrete_sequence=[cluster_1_color],\n",
    "    title='Algorytm K-średnich - iteracja I - przesunięcie centroidów do środków ciężkości klastrów',\n",
    ")\n",
    "fig.add_trace(go.Scatter(x=[centroid_1[0]], y=[centroid_1[1]], name='centroid 1', mode='markers', marker_line_width=3, marker_color=cluster_1_color, marker_symbol='diamond'))\n",
    "fig.add_trace(go.Scatter(x=[mean_cluster_1[0]], y=[mean_cluster_1[1]], name='gravity center 1', mode='markers', marker_line_width=3, marker_color=\"black\", marker_symbol='x-thin'))\n",
    "fig.add_trace(go.Scatter(x=[centroid_1[0], mean_cluster_1[0]], y=[centroid_1[1], mean_cluster_1[1]], marker= dict(size=2, symbol=\"arrow-bar-up\", color=cluster_1_color, angleref=\"previous\")))\n",
    "\n",
    "print([centroid_1[0], mean_cluster_1[1]])\n",
    "print([centroid_1[1], mean_cluster_1[0]])\n",
    "fig.add_trace(go.Scatter(x=df.loc[df['cluster']==2].x1, y=df.loc[df['cluster']==2].x2, name='centroid 2', mode='markers', marker_color=cluster_2_color))\n",
    "fig.add_trace(go.Scatter(x=[centroid_2[0]], y=[centroid_2[1]], name='centroid 2', mode='markers', marker_line_width=3, marker_color=cluster_2_color, marker_symbol='diamond'))\n",
    "fig.add_trace(go.Scatter(x=[mean_cluster_2[0]], y=[mean_cluster_2[1]], name='gravity center 2', mode='markers', marker_line_width=3, marker_color=\"black\", marker_symbol='x-thin'))\n",
    "fig.add_trace(go.Scatter(x=[centroid_2[0], mean_cluster_2[0]], y=[centroid_2[1], mean_cluster_2[1]], marker= dict(size=2, symbol=\"arrow-bar-up\", color=cluster_2_color, angleref=\"previous\")))\n",
    "\n",
    "fig.add_trace(go.Scatter(x=df.loc[df['cluster']==3].x1, y=df.loc[df['cluster']==3].x2, name='centroid 2', mode='markers', marker_color=cluster_3_color))\n",
    "fig.add_trace(go.Scatter(x=[centroid_3[0]], y=[centroid_3[1]], name='centroid 3', mode='markers', marker_line_width=3, marker_color=cluster_3_color, marker_symbol='diamond'))\n",
    "fig.add_trace(go.Scatter(x=[mean_cluster_3[0]], y=[mean_cluster_3[1]], name='gravity center 3', mode='markers', marker_line_width=3, marker_color=\"black\", marker_symbol='x-thin'))\n",
    "fig.add_trace(go.Scatter(x=[centroid_3[0], mean_cluster_3[0]], y=[centroid_3[1], mean_cluster_3[1]], marker= dict(size=2, symbol=\"arrow-bar-up\", color=cluster_3_color, angleref=\"previous\")))\n",
    "\n",
    "fig.update_traces(marker_size=12)\n",
    "fig.update_yaxes(\n",
    "    scaleanchor=\"x\",\n",
    "    scaleratio=1,\n",
    ")  # wyrównujemy skalę, żeby odległości pomiędzy punktami nie były zaburzone na wizualizacji\n",
    "# fig.update_layout(xaxis_range=[-6, 6])\n",
    "# fig.update_layout(yaxis_range=[-6, 6])\n",
    "fig.update_xaxes(tick0=0, dtick=2)\n",
    "\n",
    "\n",
    "fig.update_layout(showlegend=False)"
   ]
  },
  {
   "cell_type": "markdown",
   "id": "5c786c45-5cb6-474a-9508-29b2e909279e",
   "metadata": {},
   "source": [
    "**Przypisanie centroidów do wyliczonych środków ciężkości**"
   ]
  },
  {
   "cell_type": "code",
   "execution_count": null,
   "id": "4d6e88cc-1d3c-4188-a0aa-ab6d14435360",
   "metadata": {},
   "outputs": [],
   "source": [
    "new_centroid_1 = mean_cluster_1\n",
    "new_centroid_2 = mean_cluster_2\n",
    "new_centroid_3 = mean_cluster_3"
   ]
  },
  {
   "cell_type": "code",
   "execution_count": null,
   "id": "bbfeeff2-ab2f-4c68-af44-162c7a903c1d",
   "metadata": {},
   "outputs": [],
   "source": [
    "fig = px.scatter(\n",
    "    df.loc[df['cluster']==1],\n",
    "    'x1',\n",
    "    'x2',\n",
    "    width=800,\n",
    "    height=800,\n",
    "    color_discrete_sequence=[cluster_1_color],\n",
    "    title='Algorytm K-średnich - iteracja II - przypisanie punktów do najbliższego centroidu',\n",
    ")\n",
    "fig.add_trace(go.Scatter(x=[new_centroid_1[0]], y=[new_centroid_1[1]], name='centroid 1', mode='markers', marker_line_width=3, marker_color=cluster_1_color, marker_symbol='diamond'))\n",
    "\n",
    "fig.add_trace(go.Scatter(x=df.loc[df['cluster']==2].x1, y=df.loc[df['cluster']==2].x2, name='centroid 2', mode='markers', marker_color=cluster_2_color))\n",
    "fig.add_trace(go.Scatter(x=[new_centroid_2[0]], y=[new_centroid_2[1]], name='centroid 2', mode='markers', marker_line_width=3, marker_color=cluster_2_color, marker_symbol='diamond'))\n",
    "\n",
    "fig.add_trace(go.Scatter(x=df.loc[df['cluster']==3].x1, y=df.loc[df['cluster']==3].x2, name='centroid 2', mode='markers', marker_color=cluster_3_color))\n",
    "fig.add_trace(go.Scatter(x=[new_centroid_3[0]], y=[new_centroid_3[1]], name='centroid 3', mode='markers', marker_line_width=3, marker_color=cluster_3_color, marker_symbol='diamond'))\n",
    "\n",
    "fig.update_traces(marker_size=12)\n",
    "fig.update_yaxes(\n",
    "    scaleanchor=\"x\",\n",
    "    scaleratio=1,\n",
    ")  # wyrównujemy skalę, żeby odległości pomiędzy punktami nie były zaburzone na wizualizacji\n",
    "fig.update_xaxes(tick0=0, dtick=2)\n",
    "\n",
    "\n",
    "fig.update_layout(showlegend=False)"
   ]
  },
  {
   "cell_type": "code",
   "execution_count": null,
   "id": "f46d7c10-def2-40ff-8f5e-a04cfb43ccf7",
   "metadata": {},
   "outputs": [],
   "source": [
    "fig = px.scatter(\n",
    "    df.loc[df['cluster']==1],\n",
    "    'x1',\n",
    "    'x2',\n",
    "    width=800,\n",
    "    height=800,\n",
    "    color_discrete_sequence=[\"blue\"],\n",
    "    title='Algorytm K-średnich - iteracja II - nowe centroidy',\n",
    ")\n",
    "fig.add_trace(go.Scatter(x=[new_centroid_1[0]], y=[new_centroid_1[1]], name='centroid 1', mode='markers', marker_line_width=3, marker_color=cluster_1_color, marker_symbol='diamond'))\n",
    "fig.add_annotation(\n",
    "    x=new_centroid_1[0],\n",
    "    y=new_centroid_1[1], \n",
    "    text=\"Centroid 1\"\n",
    ")\n",
    "\n",
    "fig.add_trace(go.Scatter(x=df.loc[df['cluster']==2].x1, y=df.loc[df['cluster']==2].x2, name='centroid 2', mode='markers', marker_color=\"blue\"))\n",
    "fig.add_trace(go.Scatter(x=[new_centroid_2[0]], y=[new_centroid_2[1]], name='centroid 2', mode='markers', marker_line_width=3, marker_color=cluster_2_color, marker_symbol='diamond'))\n",
    "fig.add_annotation(\n",
    "    x=new_centroid_2[0],\n",
    "    y=new_centroid_2[1], \n",
    "    text=\"Centroid 2\"\n",
    ")\n",
    "\n",
    "fig.add_trace(go.Scatter(x=df.loc[df['cluster']==3].x1, y=df.loc[df['cluster']==3].x2, name='centroid 2', mode='markers', marker_color=\"blue\"))\n",
    "fig.add_trace(go.Scatter(x=[new_centroid_3[0]], y=[new_centroid_3[1]], name='centroid 3', mode='markers', marker_line_width=3, marker_color=cluster_3_color, marker_symbol='diamond'))\n",
    "fig.add_annotation(\n",
    "    x=new_centroid_3[0],\n",
    "    y=new_centroid_3[1], \n",
    "    text=\"Centroid 3\",\n",
    ")\n",
    "\n",
    "fig.update_traces(marker_size=12)\n",
    "fig.update_yaxes(\n",
    "    scaleanchor=\"x\",\n",
    "    scaleratio=1,\n",
    ")  # wyrównujemy skalę, żeby odległości pomiędzy punktami nie były zaburzone na wizualizacji\n",
    "fig.update_xaxes(tick0=0, dtick=2)\n",
    "\n",
    "\n",
    "fig.update_layout(showlegend=False)"
   ]
  },
  {
   "cell_type": "markdown",
   "id": "0c3e88ab-d5dc-4ec9-a904-2cafc845df7f",
   "metadata": {},
   "source": [
    "**I wracamy do punktu \"Przypisanie punktów do najbliższego centroidu\"**"
   ]
  },
  {
   "cell_type": "code",
   "execution_count": null,
   "id": "50bbbd5d-f2c1-4d74-9370-16e73235df15",
   "metadata": {},
   "outputs": [],
   "source": [
    "from numpy.linalg import norm\n",
    "\n",
    "clusters = []\n",
    "for point in data:\n",
    "    centroid_1_dist = norm(new_centroid_1 - point)  # norma wektora reprezentującego odleglosc pomiedzy `centroid_1` i `point`\n",
    "    centroid_2_dist = norm(new_centroid_2 - point)\n",
    "    centroid_3_dist = norm(new_centroid_3 - point)\n",
    "    \n",
    "    centroids_dist = [centroid_1_dist, centroid_2_dist, centroid_3_dist]\n",
    "    cluster_nr = centroids_dist.index(min(centroids_dist)) + 1\n",
    "    clusters.append(cluster_nr)\n",
    "\n",
    "df['cluster'] = clusters\n",
    "df.head()  # zauważamy, że przypisania są różne od poprzednich"
   ]
  },
  {
   "cell_type": "code",
   "execution_count": null,
   "id": "2fbf4515-8821-44d7-80b1-6f7d4890da5f",
   "metadata": {},
   "outputs": [],
   "source": [
    "fig = px.scatter(\n",
    "    df.loc[df['cluster']==1],\n",
    "    'x1',\n",
    "    'x2',\n",
    "    width=800,\n",
    "    height=800,\n",
    "    color_discrete_sequence=[cluster_1_color],\n",
    "    title='Algorytm K-średnich - iteracja II - przypisanie punktów do najbliższego centroidu',\n",
    ")\n",
    "fig.add_trace(go.Scatter(x=[new_centroid_1[0]], y=[new_centroid_1[1]], name='centroid 1', mode='markers', marker_line_width=3, marker_color=cluster_1_color, marker_symbol='diamond'))\n",
    "\n",
    "fig.add_trace(go.Scatter(x=df.loc[df['cluster']==2].x1, y=df.loc[df['cluster']==2].x2, name='centroid 2', mode='markers', marker_color=cluster_2_color))\n",
    "fig.add_trace(go.Scatter(x=[new_centroid_2[0]], y=[new_centroid_2[1]], name='centroid 2', mode='markers', marker_line_width=3, marker_color=cluster_2_color, marker_symbol='diamond'))\n",
    "\n",
    "fig.add_trace(go.Scatter(x=df.loc[df['cluster']==3].x1, y=df.loc[df['cluster']==3].x2, name='centroid 2', mode='markers', marker_color=cluster_3_color))\n",
    "fig.add_trace(go.Scatter(x=[new_centroid_3[0]], y=[new_centroid_3[1]], name='centroid 3', mode='markers', marker_line_width=3, marker_color=cluster_3_color, marker_symbol='diamond'))\n",
    "\n",
    "fig.update_traces(marker_size=12)\n",
    "fig.update_yaxes(\n",
    "    scaleanchor=\"x\",\n",
    "    scaleratio=1,\n",
    ")  # wyrównujemy skalę, żeby odległości pomiędzy punktami nie były zaburzone na wizualizacji\n",
    "fig.update_xaxes(tick0=0, dtick=2)\n",
    "\n",
    "\n",
    "fig.update_layout(showlegend=False)"
   ]
  },
  {
   "cell_type": "markdown",
   "id": "0ce6b227-52d8-452f-a232-10c14d0171f2",
   "metadata": {},
   "source": [
    "**Środki ciężkości**"
   ]
  },
  {
   "cell_type": "code",
   "execution_count": null,
   "id": "e50b6483-3ffb-46be-9f2a-2108b4cc677d",
   "metadata": {},
   "outputs": [],
   "source": [
    "mean_cluster_1 = [df[df.cluster == 1].x1.mean(), df[df.cluster == 1].x2.mean()]\n",
    "mean_cluster_2 = [df[df.cluster == 2].x1.mean(), df[df.cluster == 2].x2.mean()]\n",
    "mean_cluster_3 = [df[df.cluster == 3].x1.mean(), df[df.cluster == 3].x2.mean()]\n",
    "\n",
    "print(mean_cluster_1)\n",
    "print(mean_cluster_2)\n",
    "print(mean_cluster_3)"
   ]
  },
  {
   "cell_type": "code",
   "execution_count": null,
   "id": "af0ee7a1-6fc6-41c4-b44f-996fe4cec127",
   "metadata": {},
   "outputs": [],
   "source": [
    "fig = px.scatter(\n",
    "    df.loc[df['cluster']==1],\n",
    "    'x1',\n",
    "    'x2',\n",
    "    width=800,\n",
    "    height=800,\n",
    "    color_discrete_sequence=[cluster_1_color],\n",
    "    title='Algorytm K-średnich - iteracja II - środki ciężkości nowych klastrów',\n",
    ")\n",
    "fig.add_trace(go.Scatter(x=[new_centroid_1[0]], y=[new_centroid_1[1]], name='centroid 1', mode='markers', marker_line_width=3, marker_color=cluster_1_color, marker_symbol='diamond'))\n",
    "fig.add_trace(go.Scatter(x=[mean_cluster_1[0]], y=[mean_cluster_1[1]], name='gravity center 1', mode='markers', marker_line_width=3, marker_color=\"black\", marker_symbol='x-thin'))\n",
    "\n",
    "fig.add_trace(go.Scatter(x=df.loc[df['cluster']==2].x1, y=df.loc[df['cluster']==2].x2, name='centroid 2', mode='markers', marker_color=cluster_2_color))\n",
    "fig.add_trace(go.Scatter(x=[new_centroid_2[0]], y=[new_centroid_2[1]], name='centroid 2', mode='markers', marker_line_width=3, marker_color=cluster_2_color, marker_symbol='diamond'))\n",
    "fig.add_trace(go.Scatter(x=[mean_cluster_2[0]], y=[mean_cluster_2[1]], name='gravity center 2', mode='markers', marker_line_width=3, marker_color=\"black\", marker_symbol='x-thin'))\n",
    "\n",
    "fig.add_trace(go.Scatter(x=df.loc[df['cluster']==3].x1, y=df.loc[df['cluster']==3].x2, name='centroid 2', mode='markers', marker_color=cluster_3_color))\n",
    "fig.add_trace(go.Scatter(x=[new_centroid_3[0]], y=[new_centroid_3[1]], name='centroid 3', mode='markers', marker_line_width=3, marker_color=cluster_3_color, marker_symbol='diamond'))\n",
    "fig.add_trace(go.Scatter(x=[mean_cluster_3[0]], y=[mean_cluster_3[1]], name='gravity center 3', mode='markers', marker_line_width=3, marker_color=\"black\", marker_symbol='x-thin'))\n",
    "\n",
    "fig.update_traces(marker_size=12)\n",
    "fig.update_yaxes(\n",
    "    scaleanchor=\"x\",\n",
    "    scaleratio=1,\n",
    ")  # wyrównujemy skalę obu osi, żeby odległości pomiędzy punktami nie były zaburzone na wizualizacji\n",
    "fig.update_xaxes(tick0=0, dtick=2)\n",
    "\n",
    "\n",
    "fig.update_layout(showlegend=False)"
   ]
  },
  {
   "cell_type": "markdown",
   "id": "4885b7e6-d3d5-4d16-805e-4eb0a54ba59c",
   "metadata": {},
   "source": [
    "**Przesunięcie centroidów**"
   ]
  },
  {
   "cell_type": "code",
   "execution_count": null,
   "id": "1a0f9a0d-b6b2-48a4-90f0-ec1f0ced2864",
   "metadata": {},
   "outputs": [],
   "source": [
    "new_centroid_1 = mean_cluster_1\n",
    "new_centroid_2 = mean_cluster_2\n",
    "new_centroid_3 = mean_cluster_3"
   ]
  },
  {
   "cell_type": "code",
   "execution_count": null,
   "id": "70ed1b43-62f3-47b5-a6ac-8083b2b0e92c",
   "metadata": {},
   "outputs": [],
   "source": [
    "fig = px.scatter(\n",
    "    df.loc[df['cluster']==1],\n",
    "    'x1',\n",
    "    'x2',\n",
    "    width=800,\n",
    "    height=800,\n",
    "    color_discrete_sequence=[\"blue\"],\n",
    "    title='Algorytm K-średnich - iteracja III - nowe centroidy',\n",
    ")\n",
    "fig.add_trace(go.Scatter(x=[new_centroid_1[0]], y=[new_centroid_1[1]], name='centroid 1', mode='markers', marker_line_width=3, marker_color=cluster_1_color, marker_symbol='diamond'))\n",
    "fig.add_annotation(\n",
    "    x=new_centroid_1[0],\n",
    "    y=new_centroid_1[1], \n",
    "    text=\"Centroid 1\"\n",
    ")\n",
    "\n",
    "fig.add_trace(go.Scatter(x=df.loc[df['cluster']==2].x1, y=df.loc[df['cluster']==2].x2, name='centroid 2', mode='markers', marker_color=\"blue\"))\n",
    "fig.add_trace(go.Scatter(x=[new_centroid_2[0]], y=[new_centroid_2[1]], name='centroid 2', mode='markers', marker_line_width=3, marker_color=cluster_2_color, marker_symbol='diamond'))\n",
    "fig.add_annotation(\n",
    "    x=new_centroid_2[0],\n",
    "    y=new_centroid_2[1], \n",
    "    text=\"Centroid 2\"\n",
    ")\n",
    "\n",
    "fig.add_trace(go.Scatter(x=df.loc[df['cluster']==3].x1, y=df.loc[df['cluster']==3].x2, name='centroid 2', mode='markers', marker_color=\"blue\"))\n",
    "fig.add_trace(go.Scatter(x=[new_centroid_3[0]], y=[new_centroid_3[1]], name='centroid 3', mode='markers', marker_line_width=3, marker_color=cluster_3_color, marker_symbol='diamond'))\n",
    "fig.add_annotation(\n",
    "    x=new_centroid_3[0],\n",
    "    y=new_centroid_3[1], \n",
    "    text=\"Centroid 3\",\n",
    ")\n",
    "\n",
    "fig.update_traces(marker_size=12)\n",
    "fig.update_yaxes(\n",
    "    scaleanchor=\"x\",\n",
    "    scaleratio=1,\n",
    ")  # wyrównujemy skalę, żeby odległości pomiędzy punktami nie były zaburzone na wizualizacji\n",
    "fig.update_xaxes(tick0=0, dtick=2)\n",
    "\n",
    "\n",
    "fig.update_layout(showlegend=False)"
   ]
  },
  {
   "cell_type": "markdown",
   "id": "0deeafe7-a7bf-463d-83bd-ee5db3d7bd37",
   "metadata": {},
   "source": [
    "**I znowu odległości**"
   ]
  },
  {
   "cell_type": "code",
   "execution_count": null,
   "id": "edac7536-8aa8-46b0-80bf-d5a6f3b0065b",
   "metadata": {},
   "outputs": [],
   "source": [
    "from numpy.linalg import norm\n",
    "\n",
    "clusters = []\n",
    "for point in data:\n",
    "    centroid_1_dist = norm(new_centroid_1 - point)  # norma wektora reprezentującego odleglosc pomiedzy `centroid_1` i `point`\n",
    "    centroid_2_dist = norm(new_centroid_2 - point)\n",
    "    centroid_3_dist = norm(new_centroid_3 - point)\n",
    "    \n",
    "    centroids_dist = [centroid_1_dist, centroid_2_dist, centroid_3_dist]\n",
    "    cluster_nr = centroids_dist.index(min(centroids_dist)) + 1\n",
    "    clusters.append(cluster_nr)\n",
    "\n",
    "df['cluster'] = clusters\n",
    "df.head()"
   ]
  },
  {
   "cell_type": "code",
   "execution_count": null,
   "id": "e0a04006-5fb2-40a1-b9d5-700d143d8924",
   "metadata": {},
   "outputs": [],
   "source": [
    "fig = px.scatter(\n",
    "    df.loc[df['cluster']==1],\n",
    "    'x1',\n",
    "    'x2',\n",
    "    width=800,\n",
    "    height=800,\n",
    "    color_discrete_sequence=[cluster_1_color],\n",
    "    title='Algorytm K-średnich - iteracja III - przypisanie punktów do najbliższego centroidu',\n",
    ")\n",
    "fig.add_trace(go.Scatter(x=[new_centroid_1[0]], y=[new_centroid_1[1]], name='centroid 1', mode='markers', marker_line_width=3, marker_color=cluster_1_color, marker_symbol='diamond'))\n",
    "\n",
    "fig.add_trace(go.Scatter(x=df.loc[df['cluster']==2].x1, y=df.loc[df['cluster']==2].x2, name='centroid 2', mode='markers', marker_color=cluster_2_color))\n",
    "fig.add_trace(go.Scatter(x=[new_centroid_2[0]], y=[new_centroid_2[1]], name='centroid 2', mode='markers', marker_line_width=3, marker_color=cluster_2_color, marker_symbol='diamond'))\n",
    "\n",
    "fig.add_trace(go.Scatter(x=df.loc[df['cluster']==3].x1, y=df.loc[df['cluster']==3].x2, name='centroid 2', mode='markers', marker_color=cluster_3_color))\n",
    "fig.add_trace(go.Scatter(x=[new_centroid_3[0]], y=[new_centroid_3[1]], name='centroid 3', mode='markers', marker_line_width=3, marker_color=cluster_3_color, marker_symbol='diamond'))\n",
    "\n",
    "fig.update_traces(marker_size=12)\n",
    "fig.update_yaxes(\n",
    "    scaleanchor=\"x\",\n",
    "    scaleratio=1,\n",
    ")  # wyrównujemy skalę, żeby odległości pomiędzy punktami nie były zaburzone na wizualizacji\n",
    "fig.update_xaxes(tick0=0, dtick=2)\n",
    "\n",
    "\n",
    "fig.update_layout(showlegend=False)"
   ]
  },
  {
   "cell_type": "markdown",
   "id": "e47145f0-eb0e-44d6-a955-bc3fa318fc83",
   "metadata": {},
   "source": [
    "**Środki ciężkości**"
   ]
  },
  {
   "cell_type": "code",
   "execution_count": null,
   "id": "5a14db78-1f2a-4108-9eda-88232d46d712",
   "metadata": {},
   "outputs": [],
   "source": [
    "mean_cluster_1 = [df[df.cluster == 1].x1.mean(), df[df.cluster == 1].x2.mean()]\n",
    "mean_cluster_2 = [df[df.cluster == 2].x1.mean(), df[df.cluster == 2].x2.mean()]\n",
    "mean_cluster_3 = [df[df.cluster == 3].x1.mean(), df[df.cluster == 3].x2.mean()]\n",
    "\n",
    "print(mean_cluster_1)\n",
    "print(mean_cluster_2)\n",
    "print(mean_cluster_3)"
   ]
  },
  {
   "cell_type": "code",
   "execution_count": null,
   "id": "7f374191-cb51-4ae1-a1cc-51b6954fd82e",
   "metadata": {},
   "outputs": [],
   "source": [
    "fig = px.scatter(\n",
    "    df.loc[df['cluster']==1],\n",
    "    'x1',\n",
    "    'x2',\n",
    "    width=800,\n",
    "    height=800,\n",
    "    color_discrete_sequence=[cluster_1_color],\n",
    "    title='Algorytm K-średnich - iteracja III - środki ciężkości nowych klastrów',\n",
    ")\n",
    "fig.add_trace(go.Scatter(x=[new_centroid_1[0]], y=[new_centroid_1[1]], name='centroid 1', mode='markers', marker_line_width=3, marker_color=cluster_1_color, marker_symbol='diamond'))\n",
    "fig.add_trace(go.Scatter(x=[mean_cluster_1[0]], y=[mean_cluster_1[1]], name='gravity center 1', mode='markers', marker_line_width=3, marker_color=\"black\", marker_symbol='x-thin'))\n",
    "\n",
    "fig.add_trace(go.Scatter(x=df.loc[df['cluster']==2].x1, y=df.loc[df['cluster']==2].x2, name='centroid 2', mode='markers', marker_color=cluster_2_color))\n",
    "fig.add_trace(go.Scatter(x=[new_centroid_2[0]], y=[new_centroid_2[1]], name='centroid 2', mode='markers', marker_line_width=3, marker_color=cluster_2_color, marker_symbol='diamond'))\n",
    "fig.add_trace(go.Scatter(x=[mean_cluster_2[0]], y=[mean_cluster_2[1]], name='gravity center 2', mode='markers', marker_line_width=3, marker_color=\"black\", marker_symbol='x-thin'))\n",
    "\n",
    "fig.add_trace(go.Scatter(x=df.loc[df['cluster']==3].x1, y=df.loc[df['cluster']==3].x2, name='centroid 2', mode='markers', marker_color=cluster_3_color))\n",
    "fig.add_trace(go.Scatter(x=[new_centroid_3[0]], y=[new_centroid_3[1]], name='centroid 3', mode='markers', marker_line_width=3, marker_color=cluster_3_color, marker_symbol='diamond'))\n",
    "fig.add_trace(go.Scatter(x=[mean_cluster_3[0]], y=[mean_cluster_3[1]], name='gravity center 3', mode='markers', marker_line_width=3, marker_color=\"black\", marker_symbol='x-thin'))\n",
    "\n",
    "fig.update_traces(marker_size=12)\n",
    "fig.update_yaxes(\n",
    "    scaleanchor=\"x\",\n",
    "    scaleratio=1,\n",
    ")  # wyrównujemy skalę obu osi, żeby odległości pomiędzy punktami nie były zaburzone na wizualizacji\n",
    "fig.update_xaxes(tick0=0, dtick=2)\n",
    "\n",
    "\n",
    "fig.update_layout(showlegend=False)"
   ]
  },
  {
   "cell_type": "markdown",
   "id": "71a033b5-c27f-43b8-be02-43339b6c5034",
   "metadata": {},
   "source": [
    "**I działamy tak do czasu aż środki ciężkości nowopowstałych klastrów niepokrywają się z wyliczonymi wcześniej centroidami.**"
   ]
  },
  {
   "cell_type": "markdown",
   "id": "c2386906-c4b8-484b-9290-8d1c3669b756",
   "metadata": {},
   "source": [
    "**Przesuwamy centroidy**"
   ]
  },
  {
   "cell_type": "code",
   "execution_count": null,
   "id": "45b7316e-e2d3-4b58-b002-29da24dc6a06",
   "metadata": {},
   "outputs": [],
   "source": [
    "fig = px.scatter(\n",
    "    df.loc[df['cluster']==1],\n",
    "    'x1',\n",
    "    'x2',\n",
    "    width=800,\n",
    "    height=800,\n",
    "    color_discrete_sequence=[\"blue\"],\n",
    "    title='Algorytm K-średnich - iteracja IV - nowe centroidy',\n",
    ")\n",
    "fig.add_trace(go.Scatter(x=[new_centroid_1[0]], y=[new_centroid_1[1]], name='centroid 1', mode='markers', marker_line_width=3, marker_color=cluster_1_color, marker_symbol='diamond'))\n",
    "fig.add_annotation(\n",
    "    x=new_centroid_1[0],\n",
    "    y=new_centroid_1[1], \n",
    "    text=\"Centroid 1\"\n",
    ")\n",
    "\n",
    "fig.add_trace(go.Scatter(x=df.loc[df['cluster']==2].x1, y=df.loc[df['cluster']==2].x2, name='centroid 2', mode='markers', marker_color=\"blue\"))\n",
    "fig.add_trace(go.Scatter(x=[new_centroid_2[0]], y=[new_centroid_2[1]], name='centroid 2', mode='markers', marker_line_width=3, marker_color=cluster_2_color, marker_symbol='diamond'))\n",
    "fig.add_annotation(\n",
    "    x=new_centroid_2[0],\n",
    "    y=new_centroid_2[1], \n",
    "    text=\"Centroid 2\"\n",
    ")\n",
    "\n",
    "fig.add_trace(go.Scatter(x=df.loc[df['cluster']==3].x1, y=df.loc[df['cluster']==3].x2, name='centroid 2', mode='markers', marker_color=\"blue\"))\n",
    "fig.add_trace(go.Scatter(x=[new_centroid_3[0]], y=[new_centroid_3[1]], name='centroid 3', mode='markers', marker_line_width=3, marker_color=cluster_3_color, marker_symbol='diamond'))\n",
    "fig.add_annotation(\n",
    "    x=new_centroid_3[0],\n",
    "    y=new_centroid_3[1], \n",
    "    text=\"Centroid 3\",\n",
    ")\n",
    "\n",
    "fig.update_traces(marker_size=12)\n",
    "fig.update_yaxes(\n",
    "    scaleanchor=\"x\",\n",
    "    scaleratio=1,\n",
    ")  # wyrównujemy skalę, żeby odległości pomiędzy punktami nie były zaburzone na wizualizacji\n",
    "fig.update_xaxes(tick0=0, dtick=2)\n",
    "\n",
    "\n",
    "fig.update_layout(showlegend=False)"
   ]
  },
  {
   "cell_type": "markdown",
   "id": "0b91ad3e-d913-4069-80dd-69f06a9e1d76",
   "metadata": {},
   "source": [
    "**Odległości**"
   ]
  },
  {
   "cell_type": "code",
   "execution_count": null,
   "id": "a83f27f3-eac7-42e1-87c2-6b72cda17eaf",
   "metadata": {},
   "outputs": [],
   "source": [
    "from numpy.linalg import norm\n",
    "\n",
    "clusters = []\n",
    "for point in data:\n",
    "    centroid_1_dist = norm(new_centroid_1 - point)  # norma wektora reprezentującego odleglosc pomiedzy `centroid_1` i `point`\n",
    "    centroid_2_dist = norm(new_centroid_2 - point)\n",
    "    centroid_3_dist = norm(new_centroid_3 - point)\n",
    "    \n",
    "    centroids_dist = [centroid_1_dist, centroid_2_dist, centroid_3_dist]\n",
    "    cluster_nr = centroids_dist.index(min(centroids_dist)) + 1\n",
    "    clusters.append(cluster_nr)\n",
    "\n",
    "df['cluster'] = clusters\n",
    "df.head()"
   ]
  },
  {
   "cell_type": "code",
   "execution_count": null,
   "id": "f3179914-f636-45ee-a1f1-0a7d5a8c833c",
   "metadata": {},
   "outputs": [],
   "source": [
    "fig = px.scatter(\n",
    "    df.loc[df['cluster']==1],\n",
    "    'x1',\n",
    "    'x2',\n",
    "    width=800,\n",
    "    height=800,\n",
    "    color_discrete_sequence=[cluster_1_color],\n",
    "    title='Algorytm K-średnich - iteracja IV - przypisanie punktów do najbliższego centroidu',\n",
    ")\n",
    "fig.add_trace(go.Scatter(x=[new_centroid_1[0]], y=[new_centroid_1[1]], name='centroid 1', mode='markers', marker_line_width=3, marker_color=cluster_1_color, marker_symbol='diamond'))\n",
    "\n",
    "fig.add_trace(go.Scatter(x=df.loc[df['cluster']==2].x1, y=df.loc[df['cluster']==2].x2, name='centroid 2', mode='markers', marker_color=cluster_2_color))\n",
    "fig.add_trace(go.Scatter(x=[new_centroid_2[0]], y=[new_centroid_2[1]], name='centroid 2', mode='markers', marker_line_width=3, marker_color=cluster_2_color, marker_symbol='diamond'))\n",
    "\n",
    "fig.add_trace(go.Scatter(x=df.loc[df['cluster']==3].x1, y=df.loc[df['cluster']==3].x2, name='centroid 2', mode='markers', marker_color=cluster_3_color))\n",
    "fig.add_trace(go.Scatter(x=[new_centroid_3[0]], y=[new_centroid_3[1]], name='centroid 3', mode='markers', marker_line_width=3, marker_color=cluster_3_color, marker_symbol='diamond'))\n",
    "\n",
    "fig.update_traces(marker_size=12)\n",
    "fig.update_yaxes(\n",
    "    scaleanchor=\"x\",\n",
    "    scaleratio=1,\n",
    ")  # wyrównujemy skalę, żeby odległości pomiędzy punktami nie były zaburzone na wizualizacji\n",
    "fig.update_xaxes(tick0=0, dtick=2)\n",
    "\n",
    "\n",
    "fig.update_layout(showlegend=False)"
   ]
  },
  {
   "cell_type": "markdown",
   "id": "215d9a38-6cdf-4251-bc17-fedfa3f3932a",
   "metadata": {},
   "source": [
    "**Środki ciężkości**"
   ]
  },
  {
   "cell_type": "code",
   "execution_count": null,
   "id": "06f99186-e9a8-4b5f-bbae-1d15fa8c54f4",
   "metadata": {},
   "outputs": [],
   "source": [
    "mean_cluster_1 = [df[df.cluster == 1].x1.mean(), df[df.cluster == 1].x2.mean()]\n",
    "mean_cluster_2 = [df[df.cluster == 2].x1.mean(), df[df.cluster == 2].x2.mean()]\n",
    "mean_cluster_3 = [df[df.cluster == 3].x1.mean(), df[df.cluster == 3].x2.mean()]\n",
    "\n",
    "print(mean_cluster_1)\n",
    "print(mean_cluster_2)\n",
    "print(mean_cluster_3)"
   ]
  },
  {
   "cell_type": "markdown",
   "id": "10ed4e6c-845d-4deb-8003-d587e18c1e65",
   "metadata": {},
   "source": [
    "**Nowe centroidy**"
   ]
  },
  {
   "cell_type": "code",
   "execution_count": null,
   "id": "c70b3dd0-e78f-45fa-ac19-8895505bf3f1",
   "metadata": {},
   "outputs": [],
   "source": [
    "new_centroid_1 = mean_cluster_1\n",
    "new_centroid_2 = mean_cluster_2\n",
    "new_centroid_3 = mean_cluster_3"
   ]
  },
  {
   "cell_type": "code",
   "execution_count": null,
   "id": "b0b4a325-c956-4840-bb99-ed7ec99db27e",
   "metadata": {},
   "outputs": [],
   "source": [
    "fig = px.scatter(\n",
    "    df.loc[df['cluster']==1],\n",
    "    'x1',\n",
    "    'x2',\n",
    "    width=800,\n",
    "    height=800,\n",
    "    color_discrete_sequence=[cluster_1_color],\n",
    "    title='Algorytm K-średnich - iteracja IV - środki ciężkości nowych klastrów',\n",
    ")\n",
    "fig.add_trace(go.Scatter(x=[new_centroid_1[0]], y=[new_centroid_1[1]], name='centroid 1', mode='markers', marker_line_width=3, marker_color=cluster_1_color, marker_symbol='diamond'))\n",
    "fig.add_trace(go.Scatter(x=[mean_cluster_1[0]], y=[mean_cluster_1[1]], name='gravity center 1', mode='markers', marker_line_width=3, marker_color=\"black\", marker_symbol='x-thin'))\n",
    "\n",
    "fig.add_trace(go.Scatter(x=df.loc[df['cluster']==2].x1, y=df.loc[df['cluster']==2].x2, name='centroid 2', mode='markers', marker_color=cluster_2_color))\n",
    "fig.add_trace(go.Scatter(x=[new_centroid_2[0]], y=[new_centroid_2[1]], name='centroid 2', mode='markers', marker_line_width=3, marker_color=cluster_2_color, marker_symbol='diamond'))\n",
    "fig.add_trace(go.Scatter(x=[mean_cluster_2[0]], y=[mean_cluster_2[1]], name='gravity center 2', mode='markers', marker_line_width=3, marker_color=\"black\", marker_symbol='x-thin'))\n",
    "\n",
    "fig.add_trace(go.Scatter(x=df.loc[df['cluster']==3].x1, y=df.loc[df['cluster']==3].x2, name='centroid 2', mode='markers', marker_color=cluster_3_color))\n",
    "fig.add_trace(go.Scatter(x=[new_centroid_3[0]], y=[new_centroid_3[1]], name='centroid 3', mode='markers', marker_line_width=3, marker_color=cluster_3_color, marker_symbol='diamond'))\n",
    "fig.add_trace(go.Scatter(x=[mean_cluster_3[0]], y=[mean_cluster_3[1]], name='gravity center 3', mode='markers', marker_line_width=3, marker_color=\"black\", marker_symbol='x-thin'))\n",
    "\n",
    "fig.update_traces(marker_size=12)\n",
    "fig.update_yaxes(\n",
    "    scaleanchor=\"x\",\n",
    "    scaleratio=1,\n",
    ")  # wyrównujemy skalę obu osi, żeby odległości pomiędzy punktami nie były zaburzone na wizualizacji\n",
    "fig.update_xaxes(tick0=0, dtick=2)\n",
    "\n",
    "\n",
    "fig.update_layout(showlegend=False)"
   ]
  },
  {
   "cell_type": "markdown",
   "id": "113b03ac-fef8-4d7d-ad2c-c6593db0c233",
   "metadata": {},
   "source": [
    "**Centroidy starych klastrów pokrywają się ze środkami ciężkości nowych klastrów. Więc kończymy**"
   ]
  },
  {
   "cell_type": "code",
   "execution_count": null,
   "id": "a52ad9cd-43a9-4286-9077-6897573db95c",
   "metadata": {},
   "outputs": [],
   "source": [
    "fig = px.scatter(\n",
    "    df.loc[df['cluster']==1],\n",
    "    'x1',\n",
    "    'x2',\n",
    "    width=800,\n",
    "    height=800,\n",
    "    color_discrete_sequence=[\"blue\"],\n",
    "    title='Algorytm k-średnich - wynik',\n",
    ")\n",
    "fig.add_trace(go.Scatter(x=[new_centroid_1[0]], y=[new_centroid_1[1]], name='centroid 1', mode='markers', marker_line_width=3, marker_color=cluster_1_color, marker_symbol='diamond'))\n",
    "fig.add_annotation(\n",
    "    x=new_centroid_1[0],\n",
    "    y=new_centroid_1[1], \n",
    "    text=\"Centroid 1\"\n",
    ")\n",
    "\n",
    "fig.add_trace(go.Scatter(x=df.loc[df['cluster']==2].x1, y=df.loc[df['cluster']==2].x2, name='centroid 2', mode='markers', marker_color=\"blue\"))\n",
    "fig.add_trace(go.Scatter(x=[new_centroid_2[0]], y=[new_centroid_2[1]], name='centroid 2', mode='markers', marker_line_width=3, marker_color=cluster_2_color, marker_symbol='diamond'))\n",
    "fig.add_annotation(\n",
    "    x=new_centroid_2[0],\n",
    "    y=new_centroid_2[1], \n",
    "    text=\"Centroid 2\"\n",
    ")\n",
    "\n",
    "fig.add_trace(go.Scatter(x=df.loc[df['cluster']==3].x1, y=df.loc[df['cluster']==3].x2, name='centroid 2', mode='markers', marker_color=\"blue\"))\n",
    "fig.add_trace(go.Scatter(x=[new_centroid_3[0]], y=[new_centroid_3[1]], name='centroid 3', mode='markers', marker_line_width=3, marker_color=cluster_3_color, marker_symbol='diamond'))\n",
    "fig.add_annotation(\n",
    "    x=new_centroid_3[0],\n",
    "    y=new_centroid_3[1], \n",
    "    text=\"Centroid 3\",\n",
    ")\n",
    "\n",
    "fig.update_traces(marker_size=12)\n",
    "fig.update_yaxes(\n",
    "    scaleanchor=\"x\",\n",
    "    scaleratio=1,\n",
    ")  # wyrównujemy skalę, żeby odległości pomiędzy punktami nie były zaburzone na wizualizacji\n",
    "fig.update_xaxes(tick0=0, dtick=2)\n",
    "fig.update_layout(showlegend=False)"
   ]
  },
  {
   "cell_type": "code",
   "execution_count": null,
   "id": "922611af-3f9b-49c6-9072-f216aceac5da",
   "metadata": {},
   "outputs": [],
   "source": [
    "fig = px.scatter(\n",
    "    df.loc[df['cluster']==1],\n",
    "    'x1',\n",
    "    'x2',\n",
    "    width=800,\n",
    "    height=800,\n",
    "    color_discrete_sequence=[cluster_1_color],\n",
    "    title='Algorytm K-średnich - wynik',\n",
    ")\n",
    "fig.add_trace(go.Scatter(x=[new_centroid_1[0]], y=[new_centroid_1[1]], name='centroid 1', mode='markers', marker_line_width=3, marker_color=cluster_1_color, marker_symbol='diamond'))\n",
    "\n",
    "fig.add_trace(go.Scatter(x=df.loc[df['cluster']==2].x1, y=df.loc[df['cluster']==2].x2, name='centroid 2', mode='markers', marker_color=cluster_2_color))\n",
    "fig.add_trace(go.Scatter(x=[new_centroid_2[0]], y=[new_centroid_2[1]], name='centroid 2', mode='markers', marker_line_width=3, marker_color=cluster_2_color, marker_symbol='diamond'))\n",
    "\n",
    "fig.add_trace(go.Scatter(x=df.loc[df['cluster']==3].x1, y=df.loc[df['cluster']==3].x2, name='centroid 2', mode='markers', marker_color=cluster_3_color))\n",
    "fig.add_trace(go.Scatter(x=[new_centroid_3[0]], y=[new_centroid_3[1]], name='centroid 3', mode='markers', marker_line_width=3, marker_color=cluster_3_color, marker_symbol='diamond'))\n",
    "\n",
    "fig.update_traces(marker_size=12)\n",
    "fig.update_yaxes(\n",
    "    scaleanchor=\"x\",\n",
    "    scaleratio=1,\n",
    ")  # wyrównujemy skalę, żeby odległości pomiędzy punktami nie były zaburzone na wizualizacji\n",
    "fig.update_xaxes(tick0=0, dtick=2)\n",
    "\n",
    "\n",
    "fig.update_layout(showlegend=False)"
   ]
  },
  {
   "cell_type": "code",
   "execution_count": null,
   "id": "1e0e3091-653c-403c-a7cf-1a3cdedf3e0f",
   "metadata": {},
   "outputs": [],
   "source": [
    "fig = px.scatter(\n",
    "    df,\n",
    "    \"x1\",\n",
    "    \"x2\",\n",
    "    width=800,\n",
    "    height=800,\n",
    "    color_discrete_sequence=[cluster_1_color],\n",
    "    title='Algorytm K-średnich - wynik',\n",
    ")\n",
    "\n",
    "fig.add_trace(go.Scatter(x=df.loc[df['cluster']==1].x1, y=df.loc[df['cluster']==1].x2, name='centroid 1', mode='markers', marker_color=cluster_1_color))\n",
    "fig.add_trace(go.Scatter(x=df.loc[df['cluster']==2].x1, y=df.loc[df['cluster']==2].x2, name='centroid 2', mode='markers', marker_color=cluster_2_color))\n",
    "fig.add_trace(go.Scatter(x=df.loc[df['cluster']==3].x1, y=df.loc[df['cluster']==3].x2, name='centroid 3', mode='markers', marker_color=cluster_3_color))\n",
    "\n",
    "fig.update_traces(marker_size=12)\n",
    "fig.update_yaxes(\n",
    "    scaleanchor=\"x\",\n",
    "    scaleratio=1\n",
    ")  # wyrównujemy skalę, żeby odległości pomiędzy punktami nie były zaburzone na wizualizacji\n",
    "fig.update_xaxes(tick0=0, dtick=2)"
   ]
  },
  {
   "cell_type": "markdown",
   "id": "1c720baa-cb1c-4db0-8842-1cb9d512db89",
   "metadata": {},
   "source": [
    "### Całość algorytmu"
   ]
  },
  {
   "cell_type": "code",
   "execution_count": null,
   "id": "b20f8bb1-9b52-4875-a48f-80544688e711",
   "metadata": {},
   "outputs": [],
   "source": [
    "import random\n",
    "import pandas as pd\n",
    "import numpy as np\n",
    "from sklearn.datasets import make_blobs\n",
    "from numpy.linalg import norm  # pozwala policzyć normę wektora (czyli długość euklidesową)\n",
    "\n",
    "data = make_blobs(n_samples=40, centers=3, cluster_std=1.0, center_box=(-4.0, 4.0), random_state=42)[0]\n",
    "df = pd.DataFrame(data, columns=['x1', 'x2'])\n",
    "df.head()\n",
    "\n",
    "x1_min = df.x1.min()\n",
    "x1_max = df.x1.max()\n",
    "\n",
    "x2_min = df.x2.min()\n",
    "x2_max = df.x2.max()\n",
    "\n",
    "x3_min = df.x2.min()\n",
    "x3_max = df.x2.max()\n",
    "\n",
    "centroid_1 = np.array([random.uniform(x1_min, x1_max), random.uniform(x2_min, x2_max)])\n",
    "centroid_2 = np.array([random.uniform(x1_min, x1_max), random.uniform(x2_min, x2_max)])\n",
    "centroid_3 = np.array([random.uniform(x3_min, x3_max), random.uniform(x3_min, x3_max)])\n",
    "\n",
    "iter_nr = 1\n",
    "while True:\n",
    "    clusters = []\n",
    "    for point in data:\n",
    "        centroid_1_dist = norm(centroid_1 - point)\n",
    "        centroid_2_dist = norm(centroid_2 - point)\n",
    "        centroid_3_dist = norm(centroid_3 - point)\n",
    "\n",
    "        centroids_dist = [centroid_1_dist, centroid_2_dist, centroid_3_dist]\n",
    "        cluster_nr = centroids_dist.index(min(centroids_dist)) + 1\n",
    "        clusters.append(cluster_nr)\n",
    "\n",
    "    df['cluster'] = clusters\n",
    "\n",
    "    mean_cluster_1 = np.array([df[df.cluster == 1].x1.mean(), df[df.cluster == 1].x2.mean()])\n",
    "    mean_cluster_2 = np.array([df[df.cluster == 2].x1.mean(), df[df.cluster == 2].x2.mean()])\n",
    "    mean_cluster_3 = np.array([df[df.cluster == 3].x1.mean(), df[df.cluster == 3].x2.mean()])\n",
    "\n",
    "    # warunek stopu\n",
    "    if all(centroid_1==mean_cluster_1) and all(centroid_2==mean_cluster_2) and all(centroid_3==mean_cluster_3):\n",
    "        break\n",
    "    else:\n",
    "        centroid_1 = mean_cluster_1\n",
    "        centroid_2 = mean_cluster_2\n",
    "        centroid_3 = mean_cluster_3\n",
    "    \n",
    "    print(f\"Iteration number: {iter_nr}\")\n",
    "    iter_nr += 1\n",
    "\n",
    "print(centroid_1)\n",
    "print(centroid_2)\n",
    "print(centroid_3)"
   ]
  },
  {
   "cell_type": "markdown",
   "id": "69f0c443-4ba9-46f3-ae55-3a03c500f3e5",
   "metadata": {},
   "source": [
    "#### Wizualizacja"
   ]
  },
  {
   "cell_type": "code",
   "execution_count": null,
   "id": "140b0b47-48d8-4534-8c8f-0003b91e4681",
   "metadata": {
    "scrolled": true
   },
   "outputs": [],
   "source": [
    "import plotly.graph_objects as go\n",
    "import plotly.express as px\n",
    "\n",
    "fig = px.scatter(\n",
    "    df, \n",
    "    'x1', \n",
    "    'x2', \n",
    "    color='cluster', \n",
    "    width=800, \n",
    "    height=800, \n",
    "    title='Algorytm K-średnich - końcowy rezultat'\n",
    ")\n",
    "fig.add_trace(go.Scatter(x=[centroid_1[0]], y=[centroid_1[1]], name='centroid 1', mode='markers', marker_symbol='diamond', marker_color=\"white\", marker_line_width=3))\n",
    "fig.add_trace(go.Scatter(x=[centroid_2[0]], y=[centroid_2[1]], name='centroid 2', mode='markers', marker_symbol='diamond', marker_color=\"white\", marker_line_width=3))\n",
    "fig.add_trace(go.Scatter(x=[centroid_3[0]], y=[centroid_3[1]], name='centroid 2', mode='markers', marker_symbol='diamond', marker_color=\"white\", marker_line_width=3))\n",
    "fig.update_traces(marker_size=12)\n",
    "fig.update_yaxes(\n",
    "    scaleanchor=\"x\",\n",
    "    scaleratio=1\n",
    ")\n",
    "fig.update_layout(showlegend=False)"
   ]
  },
  {
   "cell_type": "markdown",
   "id": "4fe18a56-4a75-4422-abff-b01953b82b1c",
   "metadata": {},
   "source": [
    "#### Predykcja"
   ]
  },
  {
   "cell_type": "markdown",
   "id": "03a255f0-d651-4385-884e-ae2a220f7441",
   "metadata": {},
   "source": [
    "Dysponując wyznaczonymi klastrami łatwo możemy określić do którego klastra należeć będzie nowy punkt. Wystarczy obliczyć jego odległość od wyznaczonych centroidów i przypisać ten punkt do najbliższego mu klastra."
   ]
  },
  {
   "cell_type": "code",
   "execution_count": null,
   "id": "fbf14c79-0964-4e5e-98c0-d05acc05ab66",
   "metadata": {},
   "outputs": [],
   "source": [
    "new_point = np.array([0, 4])\n",
    "\n",
    "new_point_dist1 = norm(centroid_1-new_point)\n",
    "new_point_dist2 = norm(centroid_2-new_point)\n",
    "new_point_dist3 = norm(centroid_3-new_point)\n",
    "\n",
    "new_point_dist = [new_point_dist1, new_point_dist2, new_point_dist3]\n",
    "cluster_nr = new_point_dist.index(min(new_point_dist)) + 1\n",
    "print(f\"Punkt {new_point} należy do klastra {cluster_nr}\")"
   ]
  },
  {
   "cell_type": "markdown",
   "id": "9ccf0dcc-89fc-4932-b708-54c3e0bafe5d",
   "metadata": {},
   "source": [
    "Ale zamiast za każdym razem wykonywać to imperatywnie, zazwyczaj wykorzystuje się gotową implementacje. Jedną z najpopularniejszych jest klasa **KMeans** znajdująca się w module **cluster** biblioteki **sckit-learn**."
   ]
  },
  {
   "cell_type": "markdown",
   "id": "feeb9f51-b764-4c5d-8d00-f8da4f63749f",
   "metadata": {},
   "source": [
    "Pytania, które się nasuwają:\n",
    "1. Jak dobierać liczbę klastrów ?\n",
    "1. Na ile początkowy, losowy dobór centroidów wpływa na zbieżność metody (wyobraźmy sobie np. dwa takie same punkty, a potem niewiele od siebie odległe) ?\n",
    "2. Zbieżność metody\n",
    "3. Warunek stopu\n"
   ]
  }
 ],
 "metadata": {
  "kernelspec": {
   "display_name": "Python 3 (ipykernel)",
   "language": "python",
   "name": "python3"
  },
  "language_info": {
   "codemirror_mode": {
    "name": "ipython",
    "version": 3
   },
   "file_extension": ".py",
   "mimetype": "text/x-python",
   "name": "python",
   "nbconvert_exporter": "python",
   "pygments_lexer": "ipython3",
   "version": "3.11.1"
  }
 },
 "nbformat": 4,
 "nbformat_minor": 5
}
