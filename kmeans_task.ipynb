{
 "cells": [
  {
   "cell_type": "markdown",
   "id": "5220d910-49ad-48c2-af50-19f69f5a64bd",
   "metadata": {},
   "source": [
    "### Zadanie 1"
   ]
  },
  {
   "cell_type": "markdown",
   "id": "d104b267-7a65-41e1-bf39-25aa17360abc",
   "metadata": {},
   "source": [
    "A. Stwórz własny, losowy rozkład danych z wybraną liczbą klastrów."
   ]
  },
  {
   "cell_type": "markdown",
   "id": "0d88b244-a807-4064-96ff-0854035f1a19",
   "metadata": {},
   "source": [
    "B. Użyj klasy KMean z modułu sklearn.cluster do pogrupowania wygenerowanych danych."
   ]
  },
  {
   "cell_type": "markdown",
   "id": "e1871f4b-603f-4770-98e2-9e5457fc9d7a",
   "metadata": {},
   "source": [
    "C. Sprawdź jak zachowuje się algorytm dla różnej liczby klastrów (od 1 do n+2), gdzie n to przyjęta podczas generowania danych liczba klastrów."
   ]
  }
 ],
 "metadata": {
  "kernelspec": {
   "display_name": "Python 3 (ipykernel)",
   "language": "python",
   "name": "python3"
  },
  "language_info": {
   "codemirror_mode": {
    "name": "ipython",
    "version": 3
   },
   "file_extension": ".py",
   "mimetype": "text/x-python",
   "name": "python",
   "nbconvert_exporter": "python",
   "pygments_lexer": "ipython3",
   "version": "3.11.1"
  }
 },
 "nbformat": 4,
 "nbformat_minor": 5
}
