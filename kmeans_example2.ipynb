{
 "cells": [
  {
   "cell_type": "markdown",
   "id": "331ed7d4-154f-4448-96ac-275458f518d4",
   "metadata": {},
   "source": [
    "### Zadanie z danymi oznakowanymi"
   ]
  },
  {
   "cell_type": "markdown",
   "id": "d5b4b1bc-f5ca-4381-a01a-ce61077713cc",
   "metadata": {},
   "source": [
    "Po co stosować metodę uczenia nienadzorowanego do oznakowanych danych? \n",
    "\n",
    "Z czystej ciekawości, żeby sprawdzić jak sobie ta metoda poradzi."
   ]
  },
  {
   "cell_type": "markdown",
   "id": "34fa9383-b51e-495b-97fa-157845d1bb7a",
   "metadata": {},
   "source": [
    "Jednym z bardziej popularnych treningowych zbiorów danych jest zbiór danych o [winach](https://www.google.pl/search?q=kaggle+wine+dataset)."
   ]
  },
  {
   "cell_type": "markdown",
   "id": "d8bcf805-a370-48bb-b4ae-95f50e2205f2",
   "metadata": {},
   "source": [
    "Weźmy przykładowy."
   ]
  },
  {
   "cell_type": "code",
   "execution_count": null,
   "id": "7f1f6db3-726c-4337-8f93-47384274ec9a",
   "metadata": {},
   "outputs": [],
   "source": [
    "import pandas as pd\n",
    "\n",
    "wine_dataset = pd.read_csv('data/wine.csv')\n",
    "wine_dataset"
   ]
  },
  {
   "cell_type": "code",
   "execution_count": null,
   "id": "f2a46ef0-1a6b-41e0-9fce-4fad6dc20076",
   "metadata": {},
   "outputs": [],
   "source": [
    "wine_dataset['Class']"
   ]
  },
  {
   "cell_type": "code",
   "execution_count": null,
   "id": "e3b6156b-a079-459d-9605-d28dc3960458",
   "metadata": {},
   "outputs": [],
   "source": [
    "wine_dataset['Class'].unique()"
   ]
  },
  {
   "cell_type": "code",
   "execution_count": null,
   "id": "f06b3f2e-b2c8-45a4-9c91-ef609ed4014e",
   "metadata": {},
   "outputs": [],
   "source": [
    "y = wine_dataset.pop('Class')\n",
    "X = wine_dataset"
   ]
  },
  {
   "cell_type": "code",
   "execution_count": null,
   "id": "fb62d211-43ae-47bb-876a-9f63f6d9d796",
   "metadata": {},
   "outputs": [],
   "source": [
    "y"
   ]
  },
  {
   "cell_type": "code",
   "execution_count": null,
   "id": "43953e1c-6015-4f72-a166-ec5c30021f71",
   "metadata": {},
   "outputs": [],
   "source": [
    "X"
   ]
  },
  {
   "cell_type": "markdown",
   "id": "40c35937-9ca9-4554-9693-a7e1f3651689",
   "metadata": {},
   "source": [
    "### Model"
   ]
  },
  {
   "cell_type": "code",
   "execution_count": null,
   "id": "e5660a32-94c4-4750-9bc5-a8b5a4a37e4e",
   "metadata": {},
   "outputs": [],
   "source": [
    "from sklearn.cluster import KMeans\n",
    "\n",
    "model = KMeans(n_clusters=3)  # n_init - check docs\n",
    "model.fit(X)"
   ]
  },
  {
   "cell_type": "code",
   "execution_count": null,
   "id": "b8e22a78-b7d7-4009-8e2a-4cf42658a0e2",
   "metadata": {},
   "outputs": [],
   "source": [
    "y_kmeans = model.predict(X)\n",
    "print(y_kmeans[:10])"
   ]
  },
  {
   "cell_type": "markdown",
   "id": "bb3fe46e-ab23-4b57-abbb-50fa584bc75f",
   "metadata": {},
   "source": [
    "Porównajmy teraz przypisania (y_kmeans) z etykietami (y)"
   ]
  },
  {
   "cell_type": "code",
   "execution_count": null,
   "id": "62054b2e-aa3b-47cd-96bc-ace7e290f7b7",
   "metadata": {},
   "outputs": [],
   "source": [
    "df = pd.DataFrame({'labels': y, 'clusters': y_kmeans})\n",
    "df"
   ]
  },
  {
   "cell_type": "code",
   "execution_count": null,
   "id": "6d6d9ba3-e22b-42d6-9407-57a47687d2df",
   "metadata": {},
   "outputs": [],
   "source": [
    "ct = pd.crosstab(df['labels'], df['clusters'])\n",
    "ct"
   ]
  },
  {
   "cell_type": "markdown",
   "id": "52a05e6f-3342-453f-960e-7f96a9a7c084",
   "metadata": {},
   "source": [
    "Wyniki kiepskie. Jednym z możliwych powodów jest brak standaryzacji danych. Być może dane mają bardzo różną wariancję, co przeważnie bardzo przeszkadza w poprawnym grupowaniu. Sprawdźmy to."
   ]
  },
  {
   "cell_type": "code",
   "execution_count": null,
   "id": "09f93c38-63f6-41a9-b1d9-9b7dab801b56",
   "metadata": {},
   "outputs": [],
   "source": [
    "X.describe()"
   ]
  },
  {
   "cell_type": "markdown",
   "id": "ec42bb6f-c0f5-4749-8680-6d9a7355a414",
   "metadata": {},
   "source": [
    "Wyświetlmy przykładowe kolumny"
   ]
  },
  {
   "cell_type": "code",
   "execution_count": null,
   "id": "49f22e0b-09c3-4228-8f91-58d72c20f50e",
   "metadata": {},
   "outputs": [],
   "source": [
    "X.columns"
   ]
  },
  {
   "cell_type": "code",
   "execution_count": null,
   "id": "11c903b1-793c-48be-9d2d-4278599f67ba",
   "metadata": {},
   "outputs": [],
   "source": [
    "import plotly.express as px\n",
    "\n",
    "fig = px.scatter(X[['OD280/OD315 of diluted wines', 'Proline']], 'OD280/OD315 of diluted wines', 'Proline')\n",
    "fig.show()"
   ]
  },
  {
   "cell_type": "markdown",
   "id": "ea935d98-c13d-4e5e-8cf6-317c42f665b8",
   "metadata": {},
   "source": [
    "Niby ok, ale dopiero jak ujednolicimy skalę na obu osiach, to będziemy w stanie porównać rozkłady obu zmiennych."
   ]
  },
  {
   "cell_type": "code",
   "execution_count": null,
   "id": "3a09e9c0-23ab-44a3-97d3-fafa4aebf032",
   "metadata": {},
   "outputs": [],
   "source": [
    "fig.update_yaxes(\n",
    "    scaleanchor=\"x\",\n",
    "    scaleratio=1,\n",
    ")\n",
    "fig.show()"
   ]
  },
  {
   "cell_type": "markdown",
   "id": "44461e4e-f92b-44bd-91f6-d56dc4597358",
   "metadata": {},
   "source": [
    "Teraz wyraźnie widać potencjalny problem. Przy tak zróżnicowanych skalach trudno opierać algorytm o pojęcie odległości pomiędzy punktami.\n",
    "Wynik będzie całkowicie zdeterminowany przez zmienną o największej wariancji. Pozostałe zmienne będą miały znikomy wpływ na wynik.\n",
    "\n",
    "Ustandaryzujmy dane."
   ]
  },
  {
   "cell_type": "code",
   "execution_count": null,
   "id": "f7216737-6ad2-49d6-8a2d-f2584eb60162",
   "metadata": {},
   "outputs": [],
   "source": [
    "from sklearn.preprocessing import StandardScaler\n",
    "\n",
    "# tworzymy obiekt skalujący\n",
    "scaler = StandardScaler()\n",
    "\n",
    "# skalujemy dane\n",
    "scaler.fit(X)\n",
    "data_scaled = scaler.transform(X)"
   ]
  },
  {
   "cell_type": "markdown",
   "id": "03eb5610-9a3a-43b0-b74a-90d78d33c02b",
   "metadata": {},
   "source": [
    "I teraz spójrzmy jeszcze raz na dane."
   ]
  },
  {
   "cell_type": "code",
   "execution_count": null,
   "id": "69546b65-d2c0-4cfd-a1a0-537e83d600c5",
   "metadata": {},
   "outputs": [],
   "source": [
    "X_scaled = pd.DataFrame(data_scaled, columns=X.columns)\n",
    "X_scaled.describe()"
   ]
  },
  {
   "cell_type": "code",
   "execution_count": null,
   "id": "fd4ac514-18a6-4adc-8d64-b675c1892919",
   "metadata": {},
   "outputs": [],
   "source": [
    "fig = px.scatter(X_scaled[['OD280/OD315 of diluted wines', 'Proline']], 'OD280/OD315 of diluted wines', 'Proline')\n",
    "fig.update_yaxes(\n",
    "    scaleanchor=\"x\",\n",
    "    scaleratio=1,\n",
    ")\n",
    "fig.show()"
   ]
  },
  {
   "cell_type": "markdown",
   "id": "58ecaae0-b164-48c5-ad69-2e8650373dc3",
   "metadata": {},
   "source": [
    "I teraz powtórzmy całość dla ustandaryzowanych danych."
   ]
  },
  {
   "cell_type": "code",
   "execution_count": null,
   "id": "51413046-45e5-4fce-99f4-8c9f95a055c7",
   "metadata": {},
   "outputs": [],
   "source": [
    "model = KMeans(n_clusters=3)  # n_init - check docs\n",
    "model.fit(X_scaled)"
   ]
  },
  {
   "cell_type": "code",
   "execution_count": null,
   "id": "4489a9b0-05ec-49bb-9dd5-aa5ddcbefc28",
   "metadata": {},
   "outputs": [],
   "source": [
    "y_kmeans = model.predict(X_scaled)\n",
    "print(y_kmeans[:10])"
   ]
  },
  {
   "cell_type": "code",
   "execution_count": null,
   "id": "a08ec7b3-8b8e-477a-9cac-a1c9e2746938",
   "metadata": {},
   "outputs": [],
   "source": [
    "df = pd.DataFrame({'labels': y, 'clusters': y_kmeans})\n",
    "df"
   ]
  },
  {
   "cell_type": "markdown",
   "id": "ddd68089-ece3-4015-a99c-f8f9fa3930ab",
   "metadata": {},
   "source": [
    "Wygląda obiecująco"
   ]
  },
  {
   "cell_type": "code",
   "execution_count": null,
   "id": "9b6d3c69-be3b-411e-810d-86c35be3ecb3",
   "metadata": {},
   "outputs": [],
   "source": [
    "ct = pd.crosstab(df['labels'], df['clusters'])\n",
    "ct"
   ]
  },
  {
   "cell_type": "markdown",
   "id": "e962e009-3996-46ad-920e-1c546385c2ee",
   "metadata": {},
   "source": [
    "Udało się z dużą dokładnością odnaleźć właściwą segmentacje danych.\n",
    "\n",
    "Wyniku niestety, nie potrafimy zwizualizować, ponieważ pracujemy w 13-wymiarowej przestrzeni."
   ]
  }
 ],
 "metadata": {
  "kernelspec": {
   "display_name": "Python 3 (ipykernel)",
   "language": "python",
   "name": "python3"
  },
  "language_info": {
   "codemirror_mode": {
    "name": "ipython",
    "version": 3
   },
   "file_extension": ".py",
   "mimetype": "text/x-python",
   "name": "python",
   "nbconvert_exporter": "python",
   "pygments_lexer": "ipython3",
   "version": "3.11.1"
  }
 },
 "nbformat": 4,
 "nbformat_minor": 5
}
