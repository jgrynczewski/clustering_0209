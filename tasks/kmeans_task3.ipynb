{
 "cells": [
  {
   "cell_type": "markdown",
   "id": "c87102e1-d5b8-45db-bf9b-9f682b16efb9",
   "metadata": {},
   "source": [
    "#### Zadanie 3"
   ]
  },
  {
   "cell_type": "markdown",
   "id": "5713d8bd-920c-41bd-8162-2385696eee35",
   "metadata": {},
   "source": [
    "W zadaniu 1 podpunkt C analizowane było zachowanie algorytmu dla liczby klastrów od 1 do n+2.\n",
    "Ponownie przeporwadź taką analizę, tym razem w oparciu o metodę łokcia."
   ]
  }
 ],
 "metadata": {
  "kernelspec": {
   "display_name": "Python 3 (ipykernel)",
   "language": "python",
   "name": "python3"
  },
  "language_info": {
   "codemirror_mode": {
    "name": "ipython",
    "version": 3
   },
   "file_extension": ".py",
   "mimetype": "text/x-python",
   "name": "python",
   "nbconvert_exporter": "python",
   "pygments_lexer": "ipython3",
   "version": "3.11.1"
  }
 },
 "nbformat": 4,
 "nbformat_minor": 5
}
