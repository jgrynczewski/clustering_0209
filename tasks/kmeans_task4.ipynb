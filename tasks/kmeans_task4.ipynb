{
 "cells": [
  {
   "cell_type": "markdown",
   "id": "698c7ab2-7e6f-4ad9-bb25-349dc7ec0c35",
   "metadata": {},
   "source": [
    "#### Zadanie 4"
   ]
  },
  {
   "cell_type": "markdown",
   "id": "05413f52-8f06-4dfc-b16b-746684fe833b",
   "metadata": {},
   "source": [
    "Ponownie przeporwadź analizę z zadania 3, tym razem w oparciu o metryki silhouette oraz Davies-Bouldin Index."
   ]
  }
 ],
 "metadata": {
  "kernelspec": {
   "display_name": "Python 3 (ipykernel)",
   "language": "python",
   "name": "python3"
  },
  "language_info": {
   "codemirror_mode": {
    "name": "ipython",
    "version": 3
   },
   "file_extension": ".py",
   "mimetype": "text/x-python",
   "name": "python",
   "nbconvert_exporter": "python",
   "pygments_lexer": "ipython3",
   "version": "3.11.1"
  }
 },
 "nbformat": 4,
 "nbformat_minor": 5
}
