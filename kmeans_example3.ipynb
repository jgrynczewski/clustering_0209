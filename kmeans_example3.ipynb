{
 "cells": [
  {
   "cell_type": "markdown",
   "id": "c1b5ae93-5b99-4ba3-848e-856aa2ad5df9",
   "metadata": {},
   "source": [
    "### Liczba klastrów oraz metryki jakości klasteryzacji."
   ]
  },
  {
   "cell_type": "markdown",
   "id": "73b56003-d97b-41a7-a3d9-e90abbafb5ad",
   "metadata": {},
   "source": [
    "Weźmy pierwszy przykład."
   ]
  },
  {
   "cell_type": "code",
   "execution_count": null,
   "id": "69c3908e-0274-4af8-9a38-d80e9a8e1895",
   "metadata": {
    "scrolled": true
   },
   "outputs": [],
   "source": [
    "import pandas as pd\n",
    "from sklearn.datasets import make_blobs\n",
    "\n",
    "data = make_blobs(n_samples=1000, centers=2, cluster_std=1.0, center_box=(-4.0, 4.0), random_state=42)[0]\n",
    "df = pd.DataFrame(data, columns=['x1', 'x2'])\n",
    "df.head()"
   ]
  },
  {
   "cell_type": "code",
   "execution_count": null,
   "id": "3cb357c1-5341-4777-a487-5f0b7e884788",
   "metadata": {},
   "outputs": [],
   "source": [
    "import plotly.express as px\n",
    "\n",
    "px.scatter(df, 'x1', 'x2', width=950, height=500, title='Dane')"
   ]
  },
  {
   "cell_type": "markdown",
   "id": "c3e73412-511a-45a3-ae70-28d2af59551a",
   "metadata": {},
   "source": [
    "I popatrzmy jak się zachowa dla różnej liczby klastrów."
   ]
  },
  {
   "cell_type": "markdown",
   "id": "2e8b7e09-2ea7-4981-a348-c2678b2ff4d0",
   "metadata": {},
   "source": [
    "Zacznijmy najbardziej naturalnie. Od dwóch klastrów."
   ]
  },
  {
   "cell_type": "code",
   "execution_count": null,
   "id": "befab3c6-4629-47e8-9008-92635129b9e7",
   "metadata": {},
   "outputs": [],
   "source": [
    "from sklearn.cluster import KMeans\n",
    "\n",
    "# na początek dwa klastrów\n",
    "kmeans = KMeans(n_clusters=2)\n",
    "kmeans.fit(data)"
   ]
  },
  {
   "cell_type": "code",
   "execution_count": null,
   "id": "c2b69c73-c711-4c47-874e-71fc27998b83",
   "metadata": {},
   "outputs": [],
   "source": [
    "y_kmeans = kmeans.predict(data)\n",
    "df['y_kmeans'] = y_kmeans\n",
    "df.head()"
   ]
  },
  {
   "cell_type": "markdown",
   "id": "35efc2c9-3fc4-4d97-b80f-090ba5c62cf4",
   "metadata": {},
   "source": [
    "Narysujmy to"
   ]
  },
  {
   "cell_type": "code",
   "execution_count": null,
   "id": "4b986724-82c4-4d8d-b82c-9bce31c55824",
   "metadata": {},
   "outputs": [],
   "source": [
    "import plotly.graph_objects as go\n",
    "\n",
    "centroid_1, centroid_2 = kmeans.cluster_centers_\n",
    "\n",
    "fig = px.scatter(df, 'x1', 'x2', 'y_kmeans', width=950, height=500, title='Algorytm K-średnich - 2 klastry')\n",
    "fig.add_trace(go.Scatter(x=[centroid_1[0]], y=[centroid_1[1]], name='centroid 1', mode='markers', marker_line_width=2))\n",
    "fig.add_trace(go.Scatter(x=[centroid_2[0]], y=[centroid_2[1]], name='centroid 2', mode='markers', marker_line_width=2))\n",
    "fig.update_layout(showlegend=False)\n",
    "fig"
   ]
  },
  {
   "cell_type": "code",
   "execution_count": null,
   "id": "66db8e9b-7d1b-4cea-933a-42700f77b9ca",
   "metadata": {},
   "outputs": [],
   "source": [
    "cluster_1 = df[df.y_kmeans==0]\n",
    "cluster_2 = df[df.y_kmeans==1]"
   ]
  },
  {
   "cell_type": "markdown",
   "id": "a0f040a4-3c56-49f4-8cab-ce658b769f4b",
   "metadata": {},
   "source": [
    "Napiszmy funkcję, która będzie liczyła miarę wss dla zadanego klastra (przy założeniu, że pracujemy z dwoma zmiennymi 'x1', 'x2')."
   ]
  },
  {
   "cell_type": "code",
   "execution_count": null,
   "id": "5aa6707e-57d2-4943-87f4-4db2dd454bdb",
   "metadata": {},
   "outputs": [],
   "source": [
    "import numpy as np\n",
    "from numpy.linalg import norm\n",
    "\n",
    "def wss(cluster: pd.DataFrame) -> float:\n",
    "    \"\"\"Calculates the sum of distances between centroid of the given cluster and every point in this cluster.\"\"\"\n",
    "    \n",
    "    centroid = np.array([cluster.x1.mean(), cluster.x2.mean()])\n",
    "    \n",
    "    distance = 0\n",
    "    for index, row in cluster.iterrows():\n",
    "        point = np.array([row.x1, row.x2])\n",
    "        distance += norm(centroid - point)**2  # kwadratów odległości (kwadrat normy wektora różnicy)\n",
    "    return distance"
   ]
  },
  {
   "cell_type": "markdown",
   "id": "245b8386-3bff-41af-8f03-6d6db09d3da6",
   "metadata": {},
   "source": [
    "Teraz policzmy wss dla obu klastrów."
   ]
  },
  {
   "cell_type": "code",
   "execution_count": null,
   "id": "a0bd718e-ab80-4abe-a3d7-ab83f684477c",
   "metadata": {},
   "outputs": [],
   "source": [
    "wss_1 = wss(cluster_1)\n",
    "wss_2 = wss(cluster_2)\n",
    "\n",
    "print(wss_1)\n",
    "print(wss_2)"
   ]
  },
  {
   "cell_type": "markdown",
   "id": "86c4f94f-bb03-4790-b7a3-a93cac9e094b",
   "metadata": {},
   "source": [
    "Policzmy całkowitą dyspersję"
   ]
  },
  {
   "cell_type": "code",
   "execution_count": null,
   "id": "de86e7d6-a8df-4fd5-b31b-04060b26338d",
   "metadata": {},
   "outputs": [],
   "source": [
    "total_wss = wss_1+wss_2\n",
    "print(total_wss)"
   ]
  },
  {
   "cell_type": "markdown",
   "id": "f0b5612d-ced9-4711-ae57-7b8df6fa77d3",
   "metadata": {},
   "source": [
    "Teraz należałoby policzyć wss dla jednego klastra, trzech, czterech, ... I porównać je. Trochę roboty."
   ]
  },
  {
   "cell_type": "markdown",
   "id": "61efe276-460d-4473-bf7e-3386a7acf74a",
   "metadata": {},
   "source": [
    "Na szczęscie nie musimy tego ręcznie liczyć. Obiekt klasy KMeans przechowuje w swoim atrybucie 'intertia_' informacje o całkowitej wartości metryki wss."
   ]
  },
  {
   "cell_type": "code",
   "execution_count": null,
   "id": "005ed62e-e052-4009-a3cc-c41553a044d0",
   "metadata": {},
   "outputs": [],
   "source": [
    "kmeans.inertia_  # pojawiają się jakieś drobne niedokładności wynikłe z artytmetyki zmiennoprzecinkowej"
   ]
  },
  {
   "cell_type": "markdown",
   "id": "fceae076-1172-4bae-9228-80f6d5a703ca",
   "metadata": {},
   "source": [
    "Zróbmy zestawienie metryki **wss** dla różnej liczny klastrów wykorzystując atrybut **inertia_**"
   ]
  }
 ],
 "metadata": {
  "kernelspec": {
   "display_name": "Python 3 (ipykernel)",
   "language": "python",
   "name": "python3"
  },
  "language_info": {
   "codemirror_mode": {
    "name": "ipython",
    "version": 3
   },
   "file_extension": ".py",
   "mimetype": "text/x-python",
   "name": "python",
   "nbconvert_exporter": "python",
   "pygments_lexer": "ipython3",
   "version": "3.11.1"
  }
 },
 "nbformat": 4,
 "nbformat_minor": 5
}
